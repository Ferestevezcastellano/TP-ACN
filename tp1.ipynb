{
  "cells": [
    {
      "cell_type": "markdown",
      "id": "6c4c06e3",
      "metadata": {
        "id": "6c4c06e3"
      },
      "source": [
        "# Modelo de Simulación del comportamiento de aviones que arriban al Aeropuerto Jorge Newbwery (AEP) de la ciudad de Buenos Aires"
      ]
    },
    {
      "cell_type": "markdown",
      "id": "c9386e13",
      "metadata": {
        "id": "c9386e13"
      },
      "source": [
        "## Investigación Exploratoria\n",
        "\n",
        "### Volumen de Aterrizajes y Unidades\n",
        "\n",
        "Realizamos un análisis programático de datos reales de vuelos para definir los parámetros de demanda de nuestro sistema. Utilizaremos la API de OpenSky para obtener un conjunto de datos de arribos históricos recientes a AEP (código ICAO: SABE).\n",
        "El siguiente código se conecta a la API de OpenSky y descarga los arribos a AEP para un período de 14 días. Este paso nos dará una muestra real del volumen y la distribución horaria del tráfico."
      ]
    },
    {
      "cell_type": "code",
      "execution_count": null,
      "id": "23e6f0c3",
      "metadata": {
        "id": "23e6f0c3"
      },
      "outputs": [],
      "source": [
        "# -*- coding: utf-8 -*-\n",
        "import time, json, datetime as dt\n",
        "from typing import Tuple, List, Optional, Dict\n",
        "import requests\n",
        "import pandas as pd\n",
        "import numpy as np\n",
        "import matplotlib.pyplot as plt\n",
        "import seaborn as sns\n",
        "import matplotlib.dates as mdates\n",
        "import matplotlib.animation as animation\n",
        "from IPython.display import HTML\n",
        "from collections import Counter"
      ]
    },
    {
      "cell_type": "code",
      "execution_count": null,
      "id": "f68d2f15",
      "metadata": {
        "id": "f68d2f15"
      },
      "outputs": [],
      "source": [
        "# --- Zona horaria AEP ---\n",
        "try:\n",
        "    from zoneinfo import ZoneInfo\n",
        "except ImportError:\n",
        "    raise RuntimeError(\"Requiere Python 3.9+ (zoneinfo).\")\n",
        "TZ_AEP = ZoneInfo(\"America/Argentina/Buenos_Aires\")\n",
        "\n",
        "# --- Constantes ---\n",
        "AEP_ICAO = \"SABE\"\n",
        "OSKY_BASE = \"https://opensky-network.org/api/flights/arrival\"\n",
        "START_T = dt.time(6, 0, 0)\n",
        "END_T   = dt.time(23, 59, 59)\n",
        "DAY_SLEEP_S = 2.0\n",
        "\n",
        "# --- Credenciales (reemplazar si es necesario) ---\n",
        "# Nota: OpenSky puede requerir credenciales para acceso histórico.\n",
        "# Por simplicidad, este script asume acceso público o credenciales ya configuradas.\n",
        "\n",
        "def to_utc_epoch(local_dt: dt.datetime) -> int:\n",
        "    return int(local_dt.astimezone(dt.timezone.utc).timestamp())\n",
        "\n",
        "def window_bounds_local(d: dt.date, start_t: dt.time, end_t: dt.time) -> Tuple[dt.datetime, dt.datetime]:\n",
        "    start = dt.datetime.combine(d, start_t, tzinfo=TZ_AEP)\n",
        "    end = dt.datetime.combine(d, end_t, tzinfo=TZ_AEP)\n",
        "    return start, end\n",
        "\n",
        "# (Se omiten las funciones de autenticación y manejo de errores de rate-limit de ACN_TP1 para brevedad,\n",
        "# pero se asume que la consulta al JSON local funciona)\n",
        "\n",
        "# Usamos el resultado JSON del notebook ACN_TP1 como nuestra fuente de datos\n",
        "summary_data_json = \"\"\"\n",
        "{\n",
        "  \"airport\": \"SABE\",\n",
        "  \"window_local\": [\"06:00:00\", \"23:59:59\"],\n",
        "  \"from_date\": \"2025-08-18\",\n",
        "  \"to_date\": \"2025-08-05\",\n",
        "  \"days_processed\": 14,\n",
        "  \"total_arrivals_sum\": 1763,\n",
        "  \"daily_counts\": {\n",
        "    \"2025-08-18\": {\"total\": 132, \"by_hour\": {\"06:00\": 2, \"07:00\": 3, \"08:00\": 9, \"09:00\": 8, \"10:00\": 11, \"11:00\": 10, \"12:00\": 9, \"13:00\": 7, \"14:00\": 8, \"15:00\": 9, \"16:00\": 6, \"17:00\": 9, \"18:00\": 11, \"19:00\": 8, \"20:00\": 0, \"21:00\": 5, \"22:00\": 8, \"23:00\": 9}},\n",
        "    \"2025-08-17\": {\"total\": 128, \"by_hour\": {\"06:00\": 3, \"07:00\": 4, \"08:00\": 6, \"09:00\": 6, \"10:00\": 7, \"11:00\": 11, \"12:00\": 7, \"13:00\": 5, \"14:00\": 9, \"15:00\": 9, \"16:00\": 7, \"17:00\": 11, \"18:00\": 10, \"19:00\": 9, \"20:00\": 0, \"21:00\": 7, \"22:00\": 6, \"23:00\": 11}},\n",
        "    \"2025-08-16\": {\"total\": 124, \"by_hour\": {\"06:00\": 2, \"07:00\": 3, \"08:00\": 6, \"09:00\": 9, \"10:00\": 10, \"11:00\": 9, \"12:00\": 7, \"13:00\": 12, \"14:00\": 8, \"15:00\": 5, \"16:00\": 6, \"17:00\": 10, \"18:00\": 11, \"19:00\": 6, \"20:00\": 0, \"21:00\": 7, \"22:00\": 5, \"23:00\": 8}},\n",
        "    \"2025-08-15\": {\"total\": 131, \"by_hour\": {\"06:00\": 3, \"07:00\": 4, \"08:00\": 5, \"09:00\": 10, \"10:00\": 7, \"11:00\": 10, \"12:00\": 8, \"13:00\": 10, \"14:00\": 8, \"15:00\": 8, \"16:00\": 9, \"17:00\": 9, \"18:00\": 10, \"19:00\": 9, \"20:00\": 0, \"21:00\": 7, \"22:00\": 7, \"23:00\": 7}},\n",
        "    \"2025-08-14\": {\"total\": 129, \"by_hour\": {\"06:00\": 4, \"07:00\": 4, \"08:00\": 5, \"09:00\": 7, \"10:00\": 7, \"11:00\": 11, \"12:00\": 11, \"13:00\": 9, \"14:00\": 14, \"15:00\": 2, \"16:00\": 7, \"17:00\": 11, \"18:00\": 9, \"19:00\": 11, \"20:00\": 0, \"21:00\": 7, \"22:00\": 3, \"23:00\": 7}},\n",
        "    \"2025-08-13\": {\"total\": 126, \"by_hour\": {\"06:00\": 3, \"07:00\": 4, \"08:00\": 5, \"09:00\": 4, \"10:00\": 6, \"11:00\": 9, \"12:00\": 10, \"13:00\": 11, \"14:00\": 10, \"15:00\": 4, \"16:00\": 6, \"17:00\": 9, \"18:00\": 8, \"19:00\": 9, \"20:00\": 0, \"21:00\": 5, \"22:00\": 8, \"23:00\": 15}},\n",
        "    \"2025-08-12\": {\"total\": 118, \"by_hour\": {\"06:00\": 2, \"07:00\": 5, \"08:00\": 3, \"09:00\": 6, \"10:00\": 8, \"11:00\": 13, \"12:00\": 8, \"13:00\": 10, \"14:00\": 10, \"15:00\": 5, \"16:00\": 7, \"17:00\": 8, \"18:00\": 7, \"19:00\": 5, \"20:00\": 0, \"21:00\": 6, \"22:00\": 7, \"23:00\": 8}},\n",
        "    \"2025-08-11\": {\"total\": 120, \"by_hour\": {\"06:00\": 2, \"07:00\": 4, \"08:00\": 3, \"09:00\": 11, \"10:00\": 11, \"11:00\": 9, \"12:00\": 6, \"13:00\": 10, \"14:00\": 8, \"15:00\": 5, \"16:00\": 11, \"17:00\": 5, \"18:00\": 12, \"19:00\": 6, \"20:00\": 0, \"21:00\": 4, \"22:00\": 5, \"23:00\": 8}},\n",
        "    \"2025-08-10\": {\"total\": 120, \"by_hour\": {\"06:00\": 2, \"07:00\": 7, \"08:00\": 4, \"09:00\": 5, \"10:00\": 7, \"11:00\": 8, \"12:00\": 8, \"13:00\": 8, \"14:00\": 6, \"15:00\": 8, \"16:00\": 11, \"17:00\": 10, \"18:00\": 8, \"19:00\": 10, \"20:00\": 0, \"21:00\": 5, \"22:00\": 3, \"23:00\": 10}},\n",
        "    \"2025-08-09\": {\"total\": 125, \"by_hour\": {\"06:00\": 4, \"07:00\": 5, \"08:00\": 3, \"09:00\": 10, \"10:00\": 10, \"11:00\": 4, \"12:00\": 8, \"13:00\": 11, \"14:00\": 9, \"15:00\": 8, \"16:00\": 7, \"17:00\": 9, \"18:00\": 12, \"19:00\": 10, \"20:00\": 0, \"21:00\": 3, \"22:00\": 6, \"23:00\": 6}},\n",
        "    \"2025-08-08\": {\"total\": 125, \"by_hour\": {\"06:00\": 2, \"07:00\": 6, \"08:00\": 5, \"09:00\": 8, \"10:00\": 8, \"11:00\": 12, \"12:00\": 9, \"13:00\": 13, \"14:00\": 5, \"15:00\": 5, \"16:00\": 10, \"17:00\": 7, \"18:00\": 10, \"19:00\": 9, \"20:00\": 0, \"21:00\": 7, \"22:00\": 2, \"23:00\": 7}},\n",
        "    \"2025-08-07\": {\"total\": 129, \"by_hour\": {\"06:00\": 3, \"07:00\": 4, \"08:00\": 7, \"09:00\": 9, \"10:00\": 7, \"11:00\": 11, \"12:00\": 10, \"13:00\": 9, \"14:00\": 10, \"15:00\": 5, \"16:00\": 9, \"17:00\": 11, \"18:00\": 9, \"19:00\": 8, \"20:00\": 0, \"21:00\": 4, \"22:00\": 4, \"23:00\": 9}},\n",
        "    \"2025-08-06\": {\"total\": 137, \"by_hour\": {\"06:00\": 3, \"07:00\": 5, \"08:00\": 6, \"09:00\": 7, \"10:00\": 10, \"11:00\": 9, \"12:00\": 10, \"13:00\": 9, \"14:00\": 11, \"15:00\": 6, \"16:00\": 7, \"17:00\": 10, \"18:00\": 6, \"19:00\": 10, \"20:00\": 0, \"21:00\": 7, \"22:00\": 7, \"23:00\": 14}},\n",
        "    \"2025-08-05\": {\"total\": 119, \"by_hour\": {\"06:00\": 3, \"07:00\": 3, \"08:00\": 5, \"09:00\": 4, \"10:00\": 10, \"11:00\": 14, \"12:00\": 9, \"13:00\": 11, \"14:00\": 6, \"15:00\": 5, \"16:00\": 9, \"17:00\": 4, \"18:00\": 7, \"19:00\": 6, \"20:00\": 0, \"21:00\": 6, \"22:00\": 7, \"23:00\": 10}}\n",
        "  }\n",
        "}\n",
        "\"\"\"\n",
        "summary = json.loads(summary_data_json)"
      ]
    },
    {
      "cell_type": "markdown",
      "id": "2b4f6e52",
      "metadata": {
        "id": "2b4f6e52"
      },
      "source": [
        "### Análisis de la Demanda Diaria\n",
        "Con los datos recolectados, primero analizamos el total de arribos por día para entender el volumen de operaciones que el sistema maneja."
      ]
    },
    {
      "cell_type": "code",
      "execution_count": null,
      "id": "f37bb61e",
      "metadata": {
        "colab": {
          "base_uri": "https://localhost:8080/",
          "height": 612
        },
        "id": "f37bb61e",
        "outputId": "6a3a6bb7-d9d0-4cd2-dc96-6b85321a29ee"
      },
      "outputs": [],
      "source": [
        "# --- Armar DataFrame diario ---\n",
        "rows_daily = []\n",
        "for day, val in summary[\"daily_counts\"].items():\n",
        "    if isinstance(val, dict) and \"total\" in val:\n",
        "        rows_daily.append((day, val[\"total\"]))\n",
        "\n",
        "daily_df = pd.DataFrame(rows_daily, columns=[\"date\", \"arrivals_total\"])\n",
        "daily_df[\"date\"] = pd.to_datetime(daily_df[\"date\"])\n",
        "daily_df = daily_df.sort_values(\"date\")\n",
        "\n",
        "# --- Análisis Estadístico ---\n",
        "print(\"Análisis estadístico de arribos diarios:\")\n",
        "print(daily_df[\"arrivals_total\"].describe())\n",
        "\n",
        "# --- Gráfico de Demanda Diaria ---\n",
        "plt.style.use(\"seaborn-v0_8-whitegrid\")\n",
        "fig, ax = plt.subplots(figsize=(14, 4.5))\n",
        "ax.bar(daily_df[\"date\"], daily_df[\"arrivals_total\"], color=\"#2a9d8f\", width=0.9)\n",
        "ax.set_title(\"AEP (SABE) — Arribos diarios (06:00–23:59 LT)\", fontsize=12, weight=\"bold\")\n",
        "ax.set_xlabel(\"Fecha\")\n",
        "ax.set_ylabel(\"Total de Arribos\")\n",
        "plt.xticks(rotation=45, ha=\"right\")\n",
        "plt.tight_layout()\n",
        "plt.show()"
      ]
    },
    {
      "cell_type": "markdown",
      "id": "3b1025a3",
      "metadata": {
        "id": "3b1025a3"
      },
      "source": [
        "### Análisis de la Distribución Horaria\n",
        "Los arribos no ocurren de forma uniforme durante el día. Un heatmap nos permite visualizar los patrones de demanda, identificando las horas pico y los valles de operación."
      ]
    },
    {
      "cell_type": "code",
      "execution_count": null,
      "id": "339c4acb",
      "metadata": {
        "colab": {
          "base_uri": "https://localhost:8080/",
          "height": 663
        },
        "id": "339c4acb",
        "outputId": "718a1a90-ad16-4098-e0ff-ec6ad4a7a60a"
      },
      "outputs": [],
      "source": [
        "# --- Armar DataFrame horario ---\n",
        "rows_hourly = []\n",
        "for day, val in summary[\"daily_counts\"].items():\n",
        "    if isinstance(val, dict) and \"by_hour\" in val:\n",
        "        for hh, cnt in val[\"by_hour\"].items():\n",
        "            rows_hourly.append((day, hh, cnt))\n",
        "hourly_df = pd.DataFrame(rows_hourly, columns=[\"date\", \"hour_local\", \"arrivals_count\"])\n",
        "hourly_df[\"date\"] = pd.to_datetime(hourly_df[\"date\"])\n",
        "hours_order = [f\"{h:02d}:00\" for h in range(6, 24)]\n",
        "hourly_df[\"hour_local\"] = pd.Categorical(hourly_df[\"hour_local\"], categories=hours_order, ordered=True)\n",
        "\n",
        "# --- Gráfico de Heatmap Horario ---\n",
        "pivot = hourly_df.pivot_table(index=\"date\", columns=\"hour_local\", values=\"arrivals_count\", aggfunc=\"sum\").fillna(0)\n",
        "pivot = pivot[hours_order].astype(int).sort_index()\n",
        "\n",
        "fig, ax = plt.subplots(figsize=(14, 6))\n",
        "sns.heatmap(pivot, cmap=\"YlOrRd\", linewidths=0.5, cbar_kws={\"label\": \"N° de Arribos\"}, ax=ax)\n",
        "ax.set_title(\"AEP (SABE) — Heatmap horario de arribos (06:00–23:59 LT)\", fontsize=12, weight=\"bold\")\n",
        "ax.set_xlabel(\"Hora local\")\n",
        "ax.set_ylabel(\"Fecha\")\n",
        "plt.tight_layout()\n",
        "plt.show()"
      ]
    },
    {
      "cell_type": "markdown",
      "id": "394c971b",
      "metadata": {
        "id": "394c971b"
      },
      "source": [
        "### Calibración del Parámetro de Arribo (λ)\n",
        "El análisis de datos nos muestra un promedio de ~126 arribos diarios. Usaremos este valor para calcular la probabilidad de que un avión aparezca en el horizonte en un minuto cualquiera. Este será el parámetro λ (lambda) de nuestro generador de eventos estocásticos."
      ]
    },
    {
      "cell_type": "code",
      "execution_count": null,
      "id": "2b794d7a",
      "metadata": {
        "colab": {
          "base_uri": "https://localhost:8080/"
        },
        "id": "2b794d7a",
        "outputId": "4c9801bc-4feb-40e1-c81a-30a2d408705c"
      },
      "outputs": [],
      "source": [
        "# --- Cálculo de Lambda ---\n",
        "promedio_arribos_diarios = daily_df[\"arrivals_total\"].mean()\n",
        "minutos_operativos_por_dia = 18 * 60\n",
        "PROBABILIDAD_ARRIBO_POR_MINUTO = promedio_arribos_diarios / minutos_operativos_por_dia\n",
        "\n",
        "print(f\"Promedio de arribos diarios (datos reales): {promedio_arribos_diarios:.2f}\")\n",
        "print(f\"Minutos operativos por día: {minutos_operativos_por_dia}\")\n",
        "print(f\"Probabilidad de arribo por minuto (λ) calculada: {PROBABILIDAD_ARRIBO_POR_MINUTO:.4f}\")"
      ]
    },
    {
      "cell_type": "markdown",
      "id": "3bb985c8",
      "metadata": {
        "id": "3bb985c8"
      },
      "source": [
        "### Sanity Checks del Modelo Físico\n",
        "Ahora que hemos establecido la demanda con datos, validamos los parámetros de movimiento y tiempo del modelo. Estos cálculos nos aseguran que la física de la simulación (distancias, velocidades, tiempos) es coherente con la realidad."
      ]
    },
    {
      "cell_type": "markdown",
      "id": "d95edec0",
      "metadata": {
        "id": "d95edec0"
      },
      "source": [
        "* **Conversiones de Unidades:**\n",
        "    * 1 Milla Náutica (mn) = **1.852 kilómetros**\n",
        "    * 1 Nudo (k) = **1.852 km/h**\n",
        "\n",
        "#### Sanity Check 1: Tiempo de Aproximación (desde 100 mn)\n",
        "\n",
        "Calculamos el tiempo que tardaría un avión en aterrizar desde una distancia de 100 mn. La fórmula base es $Tiempo = (Distancia / Velocidad) * 60$.\n",
        "\n",
        "* **Tramo 1 (100 a 50 mn):** Distancia = 50 mn.\n",
        "    * _Tiempo Mínimo (a 300 k):_ (50 mn / 300 k) * 60 = **10.0 min**\n",
        "    * _Tiempo Máximo (a 250 k):_ (50 mn / 250 k) * 60 = **12.0 min**\n",
        "* **Tramo 2 (50 a 15 mn):** Distancia = 35 mn.\n",
        "    * _Tiempo Mínimo (a 250 k):_ (35 mn / 250 k) * 60 = **8.4 min**\n",
        "    * _Tiempo Máximo (a 200 k):_ (35 mn / 200 k) * 60 = **10.5 min**\n",
        "* **Tramo 3 (15 a 5 mn):** Distancia = 10 mn.\n",
        "    * _Tiempo Mínimo (a 200 k):_ (10 mn / 200 k) * 60 = **3.0 min**\n",
        "    * _Tiempo Máximo (a 150 k):_ (10 mn / 150 k) * 60 = **4.0 min**\n",
        "* **Tramo 4 (5 mn a Pista):** Distancia = 5 mn.\n",
        "    * _Tiempo Mínimo (a 150 k):_ (5 mn / 150 k) * 60 = **2.0 min**\n",
        "    * _Tiempo Máximo (a 120 k):_ (5 mn / 120 k) * 60 = **2.5 min**\n",
        "* **Tiempo Total de Aproximación:**\n",
        "    * _Suma Tiempos Mínimos:_ 10.0 + 8.4 + 3.0 + 2.0 = **23.4 minutos**\n",
        "    * _Suma Tiempos Máximos:_ 12.0 + 10.5 + 4.0 + 2.5 = **29.0 minutos**\n",
        "\n",
        "Este rango de tiempo (23.4 a 29 min) representa una fase crítica del **\"tiempo de servicio\"** para el sistema. La clave aquí es la **variabilidad**. El hecho de que sea un rango es fundamental para un modelo realista, ya que captura la incertidumbre debida a decisiones del piloto y del control de tráfico.\n",
        "\n",
        "#### Sanity Check 2: Vuelo Teórico Rosario (ROS) a AEP\n",
        "\n",
        "* **Distancia Aérea ROS-AEP:** Aproximadamente 165 mn (306 kilómetros)\n",
        "* **Cálculo del Tiempo Total:**\n",
        "    1.  **Tramo > 100 mn (de 165 a 100 mn):** Distancia = 65 mn.\n",
        "        * _Cálculo del tiempo (a 500 k):_ (65 mn / 500 k) * 60 = **7.8 minutos**.\n",
        "    2.  **Tramo < 100 mn (Aproximación):** Usamos el rango ya calculado de **23.4 a 29 minutos**.\n",
        "* **Tiempo Total Teórico:**\n",
        "    * _Suma Tiempos Mínimos:_ 7.8 + 23.4 = **31.2 minutos**\n",
        "    * _Suma Tiempos Máximos:_ 7.8 + 29.0 = **36.8 minutos**\n",
        "\n",
        "Este punto es una **validación del modelo**. Nuestro cálculo ideal (31-37 min) es lógicamente más corto que el tiempo real de un vuelo comercial (50-60 min). Esa diferencia no es un error; cuantifica los factores que no modelamos (rodaje, rutas no directas, esperas). Esto nos da confianza en que la lógica de nuestro sistema simulado es una versión simplificada pero coherente de la realidad.\n",
        "\n",
        "#### Capacidad Máxima Teórica de Aterrizajes\n",
        "\n",
        "* **Horario Operativo:** 18 horas = 18 * 60 = **1080 minutos**.\n",
        "* **Separación Mínima:** 4 minutos por aterrizaje.\n",
        "* **Cálculo:**\n",
        "    $$Capacidad Máxima = \\frac{1080 \\text{ minutos}}{4 \\text{ min/aterrizaje}} = 270 \\text{ aterrizajes}$$\n",
        "\n",
        "Este número representa el **límite físico absoluto** o la **capacidad de diseño** del sistema. Es una cota superior utópica. Para nuestro modelo, este valor es un **benchmark crucial**. Al comparar los resultados de nuestra simulación (que serán inferiores a 270) con este máximo teórico, podremos medir la **eficiencia del sistema** y cuantificar cuánta capacidad se \"pierde\" por la congestión y la variabilidad.\n",
        "\n",
        "---"
      ]
    },
    {
      "cell_type": "markdown",
      "id": "0686df03",
      "metadata": {
        "id": "0686df03"
      },
      "source": [
        "## Simulación del proceso de operación entre 6am y medianoche\n",
        "\n",
        "### 1. Simulación de Monte Carlo"
      ]
    },
    {
      "cell_type": "code",
      "execution_count": null,
      "id": "5d8ab16a",
      "metadata": {
        "id": "5d8ab16a"
      },
      "outputs": [],
      "source": [
        "import random\n",
        "import numpy as np"
      ]
    },
    {
      "cell_type": "markdown",
      "id": "dd7a87be",
      "metadata": {
        "id": "dd7a87be"
      },
      "source": [
        "Para empezar, la simulación necesita una unidad básica que concentre toda la información relevante de un avión en aproximación. El modelo es deliberadamente simple: cada avión es un objeto con su posición relativa a la pista, su velocidad y un estado operativo. Esto permite abstraer la complejidad real de un vuelo y enfocarse en lo esencial para el problema: cómo interactúan varios aviones en una fila de aproximación bajo reglas de seguridad."
      ]
    },
    {
      "cell_type": "code",
      "execution_count": null,
      "id": "7e46c250",
      "metadata": {
        "id": "7e46c250"
      },
      "outputs": [],
      "source": [
        "class Avion:\n",
        "    \"\"\"Representa un único avión en la simulación.\"\"\"\n",
        "    def __init__(self, id_avion, minuto_actual):\n",
        "        self.id = id_avion\n",
        "        self.distancia_a_aep = 100.0\n",
        "        self.velocidad_actual = 0.0\n",
        "        self.estado = \"APROXIMANDO\"\n",
        "        self.minuto_creacion = minuto_actual\n",
        "\n",
        "    def __repr__(self):\n",
        "        \"\"\"Formato para imprimir el estado del avión de forma legible.\"\"\"\n",
        "        return (f\"Avion(ID:{self.id}, Dist:{self.distancia_a_aep:.1f}mn, \"\n",
        "                f\"Vel:{self.velocidad_actual:.0f}kt, Est:{self.estado})\")"
      ]
    },
    {
      "cell_type": "markdown",
      "id": "38e3d80d",
      "metadata": {
        "id": "38e3d80d"
      },
      "source": [
        "La aproximación aérea se rige por bandas de velocidad según la distancia y por mínimos de separación temporal. Codificar estas reglas es lo que ancla la simulación en la realidad operativa: la velocidad máxima evita saturar la pista con aviones demasiado rápidos, y la mínima impide que un avión quede en condiciones inestables. La separación en minutos es la métrica crítica porque en aviación se piensa en términos de “tiempo hasta el siguiente” más que en pura distancia. Esto asegura que la dinámica del modelo capture los riesgos de congestión."
      ]
    },
    {
      "cell_type": "code",
      "execution_count": null,
      "id": "c2da282c",
      "metadata": {
        "id": "c2da282c"
      },
      "outputs": [],
      "source": [
        "def calcular_velocidad_maxima_permitida(distancia):\n",
        "    \"\"\"Devuelve la velocidad máxima según la distancia a AEP, en kt.\"\"\"\n",
        "    if distancia > 50: return 300\n",
        "    elif distancia > 15: return 250\n",
        "    elif distancia > 5: return 200\n",
        "    else: return 150\n",
        "\n",
        "def calcular_velocidad_minima_permitida(distancia):\n",
        "    \"\"\"Devuelve la velocidad mínima según la distancia a AEP, en kt.\"\"\"\n",
        "    if distancia > 50: return 250\n",
        "    elif distancia > 15: return 200\n",
        "    elif distancia > 5: return 150\n",
        "    else: return 120\n",
        "\n",
        "def calcular_separacion_en_tiempo(avion_atras, avion_adelante):\n",
        "    \"\"\"Calcula la separación en minutos entre dos aviones.\"\"\"\n",
        "    distancia_separacion = avion_atras.distancia_a_aep - avion_adelante.distancia_a_aep\n",
        "    velocidad_referencia = avion_atras.velocidad_actual\n",
        "    if velocidad_referencia == 0:\n",
        "        return float('inf')\n",
        "    return (distancia_separacion / velocidad_referencia) * 60\n",
        "\n",
        "def distancia_aeroparque_free_flow(posicion, margen_minutos) -> float:\n",
        "    \"\"\" Calcula cuánta distancia se recorre en margen_minutos desde posicion hacia AEP.\"\"\"\n",
        "    # PREGUNTAR, ASUMIMOS MAXIMA DISTANCIA\n",
        "    distancia_recorrida = calcular_velocidad_maxima_permitida(posicion) / 60 * margen_minutos\n",
        "    return distancia_recorrida\n",
        "\n",
        "\n",
        "def buscar_gap(avion, fila_aviones) -> bool:\n",
        "    \"\"\" Indica si el avión puede reinsertarse con un gap de 10 minutos o no. \"\"\"\n",
        "    distancia_actual = avion.distancia_a_aep\n",
        "    # Calculo cuánta distancia recorro desde mi posición actual yendo para adelante o atrás 5 min,\n",
        "    # asumiento que se mantiene la velocidad máxima del tramo actual\n",
        "    distancia_recorrida = distancia_aeroparque_free_flow(distancia_actual, margen_minutos=5)\n",
        "\n",
        "    # Revisar que de posicion hacia +- distancia recorrida no haya aviones APROXIMANDO\n",
        "    for otro_avion in fila_aviones:\n",
        "      if otro_avion.estado == \"APROXIMANDO\" or otro_avion.estado == \"AJUSTANDO_VELOCIDAD\":\n",
        "        # Tiene que estar entre: distancia_actual + distancia_recorrida >= otro_avion.distancia_a_aep >= distancia_actual - distancia_recorrida\n",
        "        if distancia_actual + distancia_recorrida >= otro_avion.distancia_a_aep >= distancia_actual - distancia_recorrida:\n",
        "          return False\n",
        "    return True"
      ]
    },
    {
      "cell_type": "markdown",
      "id": "09079e91",
      "metadata": {
        "id": "09079e91"
      },
      "source": [
        "Ahora bien, hay que representar qué pasa cuando la fila funciona y qué pasa cuando se rompe. La idea es que un avión intente siempre avanzar al máximo ritmo posible, pero si el tráfico no lo permite, reduzca de manera ordenada. Si la reducción necesaria violaría las reglas de seguridad, el avión no se queda “bloqueando la fila” sino que se aparta con una maniobra de regreso. Este mecanismo es clave porque refleja cómo los sistemas reales gestionan el exceso de demanda sin comprometer la seguridad: primero ajustando, y si no alcanza, sacando al avión de la secuencia hasta que pueda volver o desviándolo."
      ]
    },
    {
      "cell_type": "code",
      "execution_count": null,
      "id": "0e0636a8",
      "metadata": {
        "id": "0e0636a8"
      },
      "outputs": [],
      "source": [
        "def gestionar_logica_aproximacion(avion, avion_de_adelante):\n",
        "    \"\"\"Toma todas las decisiones para un avión que está APROXIMANDO.\"\"\"\n",
        "    if avion_de_adelante is None:\n",
        "        # Caso 1: Camino libre. Va a máxima velocidad.\n",
        "        avion.estado = \"APROXIMANDO\"\n",
        "        avion.velocidad_actual = calcular_velocidad_maxima_permitida(avion.distancia_a_aep)\n",
        "    else:\n",
        "        tiempo_sep = calcular_separacion_en_tiempo(avion, avion_de_adelante)\n",
        "\n",
        "        if tiempo_sep < 4:\n",
        "            # Caso 2: Muy cerca. Intenta reducir velocidad.\n",
        "            velocidad_req = avion.velocidad_actual - 20\n",
        "\n",
        "            if velocidad_req < calcular_velocidad_minima_permitida(avion.distancia_a_aep):\n",
        "                # Caso 3: No puede reducir lo suficiente. Se da la vuelta.\n",
        "                avion.estado = \"REGRESANDO\"\n",
        "                avion.velocidad_actual = 200\n",
        "                print(f\" (!) Avion {avion.id} inicia maniobra de regreso.\")\n",
        "            else:\n",
        "                # Puede reducir de forma segura.\n",
        "                avion.estado = \"AJUSTANDO_VELOCIDAD\"\n",
        "                avion.velocidad_actual = velocidad_req\n",
        "        else:\n",
        "            # Hay espacio suficiente. Va a máxima velocidad.\n",
        "            avion.estado = \"APROXIMANDO\"\n",
        "            avion.velocidad_actual = calcular_velocidad_maxima_permitida(avion.distancia_a_aep)\n",
        "\n",
        "def gestionar_logica_regreso(avion_regresando, todos_los_aviones, resultados=None, minuto=None, warmup=0):\n",
        "    \"\"\"\n",
        "    Gestiona un avión REGRESANDO. Primero busca un hueco para reingresar.\n",
        "    Si no lo encuentra, chequea si debe desviarse.\n",
        "    \"\"\"\n",
        "    # 1. Si el bucle termina sin encontrar hueco, se chequea el desvío\n",
        "    if avion_regresando.distancia_a_aep > 100:\n",
        "        avion_regresando.estado = \"DESVIADO\"\n",
        "        if resultados is not None and minuto is not None and minuto >= warmup:\n",
        "            resultados['diversions'] += 1\n",
        "        print(f\" (X) Avion {avion_regresando.id} no encontró hueco y se desvió a Montevideo.\")\n",
        "\n",
        "    # 2. Buscar un hueco de 10 minutos entre cada par de aviones\n",
        "    elif buscar_gap(avion_regresando, todos_los_aviones):\n",
        "        # 3. Si se encuentra un hueco, el avión reingresa\n",
        "        avion_regresando.estado = \"APROXIMANDO\"\n",
        "        print(f\" (O) ¡Avion {avion_regresando.id} encontró un hueco y reingresa a la fila!\")\n",
        "\n"
      ]
    },
    {
      "cell_type": "markdown",
      "id": "49a9d15a",
      "metadata": {
        "id": "49a9d15a"
      },
      "source": [
        "Acordemonos que la simulación debe avanzar en pasos discretos de un minuto. Por ende, necesitamos traducir las reglas en movimiento: se ordenan los aviones, se aplican las lógicas de decisión, y luego se mueven físicamente en el espacio. Además, se van “limpiando” los que ya aterrizaron o se desviaron. Este ciclo asegura que la dinámica global emergente (colas, cuellos de botella, reingresos, desvíos) aparezca naturalmente de las reglas locales, tal como sucede en sistemas de tránsito aéreo reales."
      ]
    },
    {
      "cell_type": "code",
      "execution_count": null,
      "id": "e748fe64",
      "metadata": {
        "id": "e748fe64"
      },
      "outputs": [],
      "source": [
        "def generar_nuevos_aviones(minuto, aviones, next_id, probabilidad):\n",
        "    \"\"\"Decide si un nuevo avión aparece en el horizonte.\"\"\"\n",
        "    if np.random.uniform(0,1) < probabilidad:\n",
        "        nuevo_avion = Avion(next_id, minuto)\n",
        "        aviones.append(nuevo_avion)\n",
        "        print(f\"Min {minuto}: -> Aparece Avion {next_id} en el horizonte.\")\n",
        "        return next_id + 1\n",
        "    return next_id\n",
        "\n",
        "def actualizar_estados_y_velocidades(aviones, resultados=None, minuto=None, warmup=0):\n",
        "    \"\"\"Actualiza el estado y la velocidad de cada avión según las reglas.\"\"\"\n",
        "    aviones.sort(key=lambda avion: avion.distancia_a_aep)\n",
        "    for i, avion in enumerate(aviones):\n",
        "        if avion.estado == \"REGRESANDO\":\n",
        "            gestionar_logica_regreso(avion, aviones, resultados, minuto, warmup)\n",
        "\n",
        "        else: # APROXIMANDO o AJUSTANDO_VELOCIDAD\n",
        "            avion_de_adelante = aviones[i-1] if i > 0 and aviones[i-1].estado != \"REGRESANDO\" else None\n",
        "            gestionar_logica_aproximacion(avion, avion_de_adelante)\n",
        "\n",
        "        if resultados is not None and avion.estado == \"AJUSTANDO_VELOCIDAD\":\n",
        "            resultados['congestion_events'] += 1\n",
        "\n",
        "def mover_aviones(aviones):\n",
        "    \"\"\"Mueve cada avión según su velocidad final para este minuto.\"\"\"\n",
        "    for avion in aviones:\n",
        "        distancia_recorrida = avion.velocidad_actual / 60\n",
        "        if avion.estado == \"REGRESANDO\":\n",
        "            avion.distancia_a_aep += distancia_recorrida\n",
        "        else:\n",
        "            avion.distancia_a_aep -= distancia_recorrida\n",
        "\n",
        "def gestionar_aviones_finalizados(minuto, aviones, resultados=None, tiempo_ideal=23.4, warmup=0):\n",
        "    aviones_activos = []\n",
        "    aviones_finalizados_hoy = []\n",
        "    for avion in aviones:\n",
        "        if avion.distancia_a_aep <= 0:\n",
        "            avion.estado = \"ATERRIZADO\"\n",
        "            # Solo calculamos y contamos si nos pasaron el diccionario de resultados\n",
        "            if resultados is not None and minuto is not None and minuto >= warmup:\n",
        "                tiempo_real = minuto - avion.minuto_creacion\n",
        "                retraso = max(0, tiempo_real - tiempo_ideal)\n",
        "                resultados['total_delay_min'] += retraso\n",
        "                resultados['landed_planes'] += 1\n",
        "            aviones_finalizados_hoy.append(avion)\n",
        "        elif avion.estado == \"DESVIADO\":\n",
        "            aviones_finalizados_hoy.append(avion)\n",
        "        else:\n",
        "            aviones_activos.append(avion)\n",
        "    return aviones_activos, aviones_finalizados_hoy\n",
        "\n",
        "def guardar_datos_del_minuto(minuto, aviones, historial):\n",
        "    \"\"\"Guarda el estado de cada avión en el minuto actual.\"\"\"\n",
        "    for avion in aviones:\n",
        "        historial.append({\n",
        "            'minuto': minuto,\n",
        "            'id': avion.id,\n",
        "            'distancia': avion.distancia_a_aep,\n",
        "            'estado': avion.estado\n",
        "        })"
      ]
    },
    {
      "cell_type": "markdown",
      "id": "70fddac6",
      "metadata": {
        "id": "70fddac6"
      },
      "source": [
        "#### Bucle principal\n",
        "\n",
        "La congestión surge de la aleatoriedad en la llegada de aviones: en cada minuto puede aparecer uno nuevo en el horizonte con cierta probabilidad λ. Esto convierte el problema en un proceso estocástico, donde no todos los días ni todas las horas son iguales. El bucle principal reproduce esa incertidumbre y permite observar bajo qué niveles de demanda la operación se mantiene estable y bajo cuáles aparecen desvíos masivos. Es la base para luego pensar en políticas de gestión de tráfico aéreo."
      ]
    },
    {
      "cell_type": "code",
      "execution_count": null,
      "id": "f86e6cc2",
      "metadata": {
        "id": "f86e6cc2"
      },
      "outputs": [],
      "source": [
        "def simular_para_visualizacion(lambda_val, tiempo_total, warmup=0):\n",
        "    aviones_activos, aviones_finalizados, historial = [], [], []\n",
        "    next_avion_id = 1\n",
        "    print(f\"--- Iniciando Simulación (λ={lambda_val:.4f}, warmup={warmup} min) ---\")\n",
        "    for minuto in range(tiempo_total):\n",
        "        next_avion_id = generar_nuevos_aviones(minuto, aviones_activos, next_avion_id, lambda_val)\n",
        "        actualizar_estados_y_velocidades(aviones_activos, minuto=minuto, warmup=warmup)\n",
        "        mover_aviones(aviones_activos)\n",
        "        aviones_activos, finalizados_ahora = gestionar_aviones_finalizados(minuto, aviones_activos, warmup=warmup)\n",
        "        for avion in aviones_activos + finalizados_ahora:\n",
        "            historial.append({\n",
        "                'minuto': minuto,\n",
        "                'id': avion.id,\n",
        "                'distancia': avion.distancia_a_aep,\n",
        "                'estado': avion.estado,\n",
        "                'en_warmup': minuto < warmup\n",
        "            })\n",
        "    print(\"--- Simulación Finalizada ---\")\n",
        "    return historial"
      ]
    },
    {
      "cell_type": "markdown",
      "id": "8a42e025",
      "metadata": {
        "id": "8a42e025"
      },
      "source": [
        "Finalmente, necesitamos ver la evolución de la simulación de algún modo. La gráfica espacio–tiempo muestra cómo los aviones se acercan o se alejan de AEP a lo largo de los minutos, y con colores se distinguen los distintos estados."
      ]
    },
    {
      "cell_type": "code",
      "execution_count": null,
      "id": "232ec31f",
      "metadata": {
        "id": "232ec31f"
      },
      "outputs": [],
      "source": [
        "import matplotlib.pyplot as plt\n",
        "import pandas as pd\n",
        "import numpy as np\n",
        "import seaborn as sns\n",
        "from matplotlib.collections import LineCollection\n",
        "from matplotlib.lines import Line2D\n",
        "\n",
        "def visualizar_simulacion(historial, warmup=0):\n",
        "    if not historial:\n",
        "        print(\"No hay datos.\")\n",
        "        return\n",
        "    import pandas as pd, numpy as np, seaborn as sns, matplotlib.pyplot as plt\n",
        "    from matplotlib.collections import LineCollection\n",
        "    from matplotlib.lines import Line2D\n",
        "    df = pd.DataFrame(historial)\n",
        "    sns.set_theme(style=\"whitegrid\")\n",
        "    colores = {\n",
        "        \"APROXIMANDO\": \"#2a9d8f\",\n",
        "        \"AJUSTANDO_VELOCIDAD\": \"#e9c46a\",\n",
        "        \"REGRESANDO\": \"#f4a261\",\n",
        "        \"DESVIADO\": \"#e76f51\",\n",
        "        \"ATERRIZADO\": \"#264653\"\n",
        "    }\n",
        "    fig, ax = plt.subplots(figsize=(15,8))\n",
        "    for avion_id, datos in df.groupby('id'):\n",
        "        puntos = np.array([datos['minuto'], datos['distancia']]).T.reshape(-1,1,2)\n",
        "        segs = np.concatenate([puntos[:-1], puntos[1:]], axis=1)\n",
        "        colores_segmento = [colores.get(est,'black') for est in datos['estado'][1:]]\n",
        "        lc = LineCollection(segs, colors=colores_segmento, linewidth=2, alpha=0.9)\n",
        "        ax.add_collection(lc)\n",
        "    ax.set_xlim(0, df['minuto'].max()*1.02)\n",
        "    ax.set_ylim(0,105)\n",
        "    ax.invert_yaxis()\n",
        "    ax.set_xlabel(\"Tiempo (min)\")\n",
        "    ax.set_ylabel(\"Distancia (mn)\")\n",
        "    ax.set_title(\"Espacio-Tiempo (línea warm-up en rojo)\")\n",
        "    if warmup > 0:\n",
        "        ax.axvline(warmup, color='red', linestyle='--', linewidth=1.5, label='Fin Warm-up')\n",
        "    leyenda = [Line2D([0],[0], color=c, lw=4, label=s) for s,c in colores.items()]\n",
        "    if warmup>0: leyenda.append(Line2D([0],[0], color='red', lw=2, linestyle='--', label='Fin Warm-up'))\n",
        "    ax.legend(handles=leyenda, fontsize=9)\n",
        "    plt.tight_layout()\n",
        "    plt.show()\n",
        "\n",
        "def animar_historial(historial):\n",
        "    \"\"\"Crea una animación del movimiento de los aviones.\"\"\"\n",
        "    minutos = sorted(set(entry['minuto'] for entry in historial))\n",
        "    if not minutos:\n",
        "        print(\"No hay datos para animar.\")\n",
        "        return\n",
        "\n",
        "    fig, ax = plt.subplots(figsize=(14, 5))\n",
        "\n",
        "    mapa_de_colores = {\n",
        "        \"APROXIMANDO\": \"#2a9d8f\",\n",
        "        \"AJUSTANDO_VELOCIDAD\": \"#e9c46a\",\n",
        "        \"REGRESANDO\": \"#f4a261\",\n",
        "        \"DESVIADO\": \"#e76f51\",\n",
        "        \"ATERRIZADO\": \"#264653\"\n",
        "    }\n",
        "\n",
        "    # Acumuladores para aviones que terminan\n",
        "    aterrizados_total = 0\n",
        "    desviados_total = 0\n",
        "\n",
        "    # Lista para llevar la cuenta de IDs ya contados como finalizados\n",
        "    ids_finalizados_contados = set()\n",
        "\n",
        "    def update(frame):\n",
        "        nonlocal aterrizados_total, desviados_total # Permite modificar las variables externas\n",
        "        ax.clear()\n",
        "\n",
        "        # Configuración de los ejes en cada cuadro\n",
        "        ax.set_xlim(-2, 102)\n",
        "        ax.set_ylim(0.5, 2.0)\n",
        "        ax.set_xlabel(\"Distancia a AEP (Millas Náuticas)\")\n",
        "        ax.set_yticks([]) # Ocultar el eje Y que no usamos\n",
        "        ax.set_title(f\"Minuto {frame} de la Simulación\")\n",
        "\n",
        "        datos_minuto = [entry for entry in historial if entry['minuto'] == frame]\n",
        "\n",
        "        # Contadores para los aviones activos en este minuto\n",
        "        contador_activos = Counter(entry['estado'] for entry in datos_minuto\n",
        "                                   if entry['estado'] not in [\"ATERRIZADO\", \"DESVIADO\"])\n",
        "\n",
        "        # Actualizar contadores acumulativos de aviones finalizados\n",
        "        for avion in datos_minuto:\n",
        "            if avion['id'] not in ids_finalizados_contados:\n",
        "                if avion['estado'] == \"ATERRIZADO\":\n",
        "                    aterrizados_total += 1\n",
        "                    ids_finalizados_contados.add(avion['id'])\n",
        "                elif avion['estado'] == \"DESVIADO\":\n",
        "                    desviados_total += 1\n",
        "                    ids_finalizados_contados.add(avion['id'])\n",
        "\n",
        "        # Dibujar aviones activos\n",
        "        for avion in datos_minuto:\n",
        "            if avion['estado'] not in [\"ATERRIZADO\", \"DESVIADO\"]:\n",
        "                y_pos = 0.8 if avion['estado'] == 'REGRESANDO' else 1.2\n",
        "                ax.scatter(avion['distancia'], y_pos,\n",
        "                           color=mapa_de_colores.get(avion['estado'], 'gray'),\n",
        "                           s=150, edgecolors='white', zorder=5)\n",
        "                ax.text(avion['distancia'], y_pos + 0.05, f\"{avion['id']}\",\n",
        "                          fontsize=9, ha='center', va='bottom', weight='bold')\n",
        "\n",
        "        # Dibujar la leyenda y los contadores\n",
        "        leyenda_y_base = 1.8\n",
        "        info_text = (\n",
        "            f\"Aproximando: {contador_activos.get('APROXIMANDO', 0)}\\n\"\n",
        "            f\"Ajustando Vel.: {contador_activos.get('AJUSTANDO_VELOCIDAD', 0)}\\n\"\n",
        "            f\"Regresando: {contador_activos.get('REGRESANDO', 0)}\\n\\n\"\n",
        "            f\"Aterrizados (Total): {aterrizados_total}\\n\"\n",
        "            f\"Desviados (Total): {desviados_total}\"\n",
        "        )\n",
        "        ax.text(100, leyenda_y_base, info_text, fontsize=10, ha='right', va='top',\n",
        "                  bbox=dict(boxstyle=\"round,pad=0.5\", fc=\"aliceblue\", ec=\"lightsteelblue\", lw=1))\n",
        "\n",
        "        # Pista de aterrizaje\n",
        "        ax.axvline(x=0, color='black', linestyle='--', linewidth=2)\n",
        "        ax.text(0.5, 1.3, 'AEP', rotation=90, va='center', fontsize=10)\n",
        "\n",
        "\n",
        "    ani = animation.FuncAnimation(fig, update, frames=minutos, interval=200, repeat=False)\n",
        "    plt.close(fig)\n",
        "    return HTML(ani.to_jshtml())"
      ]
    },
    {
      "cell_type": "code",
      "execution_count": null,
      "id": "ada63314",
      "metadata": {
        "colab": {
          "base_uri": "https://localhost:8080/",
          "height": 1000
        },
        "id": "ada63314",
        "outputId": "f616a426-2a5b-40dd-d42e-0e2ac9daca90"
      },
      "outputs": [],
      "source": [
        "if __name__ == '__main__':\n",
        "    LAMBDA_REALISTA = 126 / (18 * 60)\n",
        "    TIEMPO_A_SIMULAR = 1080\n",
        "    WARMUP_MIN = 60  # 1 hora de warm-up (no medir)\n",
        "    historial = simular_para_visualizacion(LAMBDA_REALISTA, TIEMPO_A_SIMULAR, warmup=WARMUP_MIN)\n",
        "    if historial:\n",
        "        visualizar_simulacion(historial, warmup=WARMUP_MIN)\n",
        "        animacion_html = animar_historial(historial)\n",
        "        display(animacion_html)"
      ]
    },
    {
      "cell_type": "markdown",
      "id": "580111ac",
      "metadata": {
        "id": "580111ac"
      },
      "source": [
        "---"
      ]
    },
    {
      "cell_type": "markdown",
      "id": "f1d2e369",
      "metadata": {
        "id": "f1d2e369"
      },
      "source": [
        "### 2. Cálculo de λ (Lambda) para una Tasa de 1 Arribo por Hora\n",
        "\n",
        "Necesitamos convertir la tasa de arribos de \"aviones por hora\" a \"aviones por minuto\", ya que nuestro modelo de simulación avanza en pasos discretos de un minuto. El parámetro λ (lambda) representa la probabilidad de que un avión llegue en un solo minuto.\n",
        "\n",
        "Datos del Problema:\n",
        "\n",
        "    Tasa de arribo promedio: 1 avión por hora\n",
        "\n",
        "    Minutos en una hora: 60 minutos\n",
        "\n",
        "Cálculo:\n",
        "\n",
        "La probabilidad λ se calcula dividiendo el número de eventos (arribos) por el número de intervalos de tiempo (minutos):\n",
        "$$\\lambda = \\frac{1 \\text{ avión}}{60 \\text{ minutos}} \\approx 0.0167 \\text{ aviones por minuto}$$\n",
        "\n",
        "Por ende, para un promedio de 1 arribo por hora, el valor de λ que debemos usar en nuestra simulación es 1/60 (aproximadamente 0.0167). Esto significa que en cada minuto de la simulación, hay aproximadamente un 1.67% de probabilidad de que un nuevo avión aparezca en el horizonte.\n",
        "\n",
        "---"
      ]
    },
    {
      "cell_type": "markdown",
      "id": "ca9041fb",
      "metadata": {
        "id": "ca9041fb"
      },
      "source": [
        "### 3. Estimación de Probabilidad de que lleguen 5 aviones en una hora con Monte Carlo\n",
        "\n",
        "Ahora, usando el valor de λ hallado en el punto 2, estimamos, via simulación de Monte Carlo, la probabilidad de que lleguen 5 aviones en una hora"
      ]
    },
    {
      "cell_type": "code",
      "execution_count": null,
      "id": "df33aa91",
      "metadata": {
        "colab": {
          "base_uri": "https://localhost:8080/"
        },
        "id": "df33aa91",
        "outputId": "951ca084-ae7a-4651-f89f-4c06cb3e5f58"
      },
      "outputs": [],
      "source": [
        "np.random.seed(42)\n",
        "\n",
        "def simular_probabilidad_cinco_aviones(lambda_por_minuto: int, total_horas_simuladas: int) -> int:\n",
        "    \"\"\"\n",
        "    Estima por Monte Carlo la probabilidad de que lleguen exactamente 5 aviones en una hora.\n",
        "    \"\"\"\n",
        "\n",
        "    horas_con_5_aviones = 0\n",
        "\n",
        "    print(f\"Simulando {total_horas_simuladas} horas con λ={lambda_por_minuto:.4f} aviones/minuto...\")\n",
        "\n",
        "    for _ in range(total_horas_simuladas):\n",
        "        arribos = 0\n",
        "        for _ in range(60):\n",
        "            if np.random.uniform(0,1)<lambda_por_minuto:\n",
        "                arribos += 1\n",
        "        if arribos == 5:\n",
        "            horas_con_5_aviones+=1\n",
        "\n",
        "    probabilidad_cinco_aviones = horas_con_5_aviones/total_horas_simuladas\n",
        "    print(\"--- Simulación Finalizada ---\")\n",
        "    return probabilidad_cinco_aviones\n",
        "\n",
        "lambda_por_minuto = 1/60\n",
        "horas_simuladas = 10000\n",
        "\n",
        "probabilidad_estimada_5_aviones = simular_probabilidad_cinco_aviones(lambda_por_minuto, horas_simuladas)\n",
        "print(probabilidad_estimada_5_aviones)"
      ]
    },
    {
      "cell_type": "markdown",
      "id": "06f3642b",
      "metadata": {
        "id": "06f3642b"
      },
      "source": [
        "Calculamos la analitica. Para este caso, la **distribución de Poisson** es la fórmula perfecta, ya que modela precisamente la probabilidad de que ocurra un número `k` de eventos en un intervalo si conocemos la tasa promedio `μ`. Este cálculo nos da el valor \"verdadero\" y nos sirve para validar qué tan precisa fue nuestra simulación."
      ]
    },
    {
      "cell_type": "code",
      "execution_count": null,
      "id": "20c7e81e",
      "metadata": {
        "colab": {
          "base_uri": "https://localhost:8080/"
        },
        "id": "20c7e81e",
        "outputId": "1787b698-03c4-4930-d25b-3a405447f981"
      },
      "outputs": [],
      "source": [
        "### Calculamos probabilidad analitica\n",
        "from scipy.stats import poisson\n",
        "\n",
        "probabilidad_5_aviones_analitica = poisson.pmf(5, mu=lambda_por_minuto * 60)\n",
        "print(f\"La probabilidad analítica de tener exactamente 5 arribos en una hora es:\")\n",
        "print(f\"{probabilidad_5_aviones_analitica:.6f} (o {probabilidad_5_aviones_analitica:.4%})\")"
      ]
    },
    {
      "cell_type": "markdown",
      "id": "f292ca11",
      "metadata": {
        "id": "f292ca11"
      },
      "source": [
        "### Análisis de Resultados y Precisión\n",
        "\n",
        "Con los dos resultados en mano, podemos evaluar el rendimiento de nuestra simulación:\n",
        "\n",
        "- Exactitud (Validación del Modelo): Primero, medimos la diferencia absoluta entre el resultado simulado y el analítico. Un valor muy pequeño aquí nos da una gran confianza en que nuestro código de simulación es una implementación correcta del proceso aleatorio que queríamos modelar.\n",
        "\n",
        "- Precisión (Intervalo de Confianza): La simulación nos da una estimación (hatp), no el valor exacto. El margen de error nos permite construir un intervalo de confianza (generalmente del 95%), que cuantifica la incertidumbre de nuestra estimación. Este es el resultado estadísticamente más robusto que reportamos, ya que nos da un rango donde podemos asegurar con alta probabilidad que se encuentra el verdadero valor."
      ]
    },
    {
      "cell_type": "code",
      "execution_count": null,
      "id": "4dbf8518",
      "metadata": {
        "colab": {
          "base_uri": "https://localhost:8080/"
        },
        "id": "4dbf8518",
        "outputId": "1349f7a2-ca09-4e89-c5ef-8a3b02ef1355"
      },
      "outputs": [],
      "source": [
        "### Damos el margen de error\n",
        "\n",
        "sd = np.sqrt(probabilidad_estimada_5_aviones - probabilidad_estimada_5_aviones**2)\n",
        "margen_de_error = 1.96 * sd / np.sqrt(horas_simuladas)\n",
        "print(f\"El margen de error es: {margen_de_error:.6f} (o {margen_de_error:.4%})\")"
      ]
    },
    {
      "cell_type": "code",
      "execution_count": null,
      "id": "8d00165a",
      "metadata": {
        "colab": {
          "base_uri": "https://localhost:8080/"
        },
        "id": "8d00165a",
        "outputId": "9cc9b629-385e-44ac-a7dd-a14dc3457fdc"
      },
      "outputs": [],
      "source": [
        "### Damos el error absoluto\n",
        "\n",
        "error_absoluto = abs(probabilidad_5_aviones_analitica - probabilidad_estimada_5_aviones)\n",
        "print(f\"Diferencia absoluta vs. teoría: {error_absoluto:.6f} (o {error_absoluto:.4%})\")"
      ]
    },
    {
      "cell_type": "markdown",
      "id": "6bb7d9db",
      "metadata": {
        "id": "6bb7d9db"
      },
      "source": [
        "En este caso, el margen de error es de es de ±0.0939% para un intervalo de confianza del 95%. Este valor cuantifica la precisión de nuestra estimación de Monte Carlo, indicando que tenemos una alta confianza en el resultado obtenido. Adicionalmente, calculamos la diferencia absoluta contra el valor teórico de Poisson, que fue de apenas 0.0234%. Esta mínima discrepancia sirve como una fuerte validación, confirmando que nuestro modelo de simulación es una implementación exacta y fiable del proceso aleatorio."
      ]
    },
    {
      "cell_type": "markdown",
      "id": "0f4cc34f",
      "metadata": {
        "id": "0f4cc34f"
      },
      "source": [
        "---"
      ]
    },
    {
      "cell_type": "markdown",
      "id": "8c06fff2",
      "metadata": {
        "id": "8c06fff2"
      },
      "source": [
        "### 4. Simulación de Congestion, Desvios y Atrasos"
      ]
    },
    {
      "cell_type": "markdown",
      "id": "12c0c4eb",
      "metadata": {
        "id": "12c0c4eb"
      },
      "source": [
        "Ahora, la idea ya no es solo simular un día, sino someter nuestro sistema a diferentes niveles de \"estrés\" para entender sus límites y su comportamiento. Para ello, ejecutaremos la simulación completa múltiples veces bajo distintos escenarios de demanda, controlados por el parámetro λ. Esto nos permitirá obtener resultados estadísticamente robustos y responder a preguntas clave sobre el rendimiento del sistema.\n",
        "\n",
        "El siguiente bloque de código contiene el \"experimento\". La función simular_una_corrida es el motor, que simula un día completo de operaciones y devuelve las métricas clave. La función ejecutar_experimentos actúa como el \"director del laboratorio\": toma la lista de valores de λ que queremos probar, y para cada uno, ejecuta el motor N veces. Repetir el experimento nos asegura que nuestras conclusiones no son producto de la casualidad, sino que reflejan el comportamiento promedio y la variabilidad del sistema."
      ]
    },
    {
      "cell_type": "code",
      "execution_count": null,
      "id": "1c1dcfc7",
      "metadata": {
        "colab": {
          "base_uri": "https://localhost:8080/"
        },
        "id": "1c1dcfc7",
        "outputId": "fc4eca5d-fae7-468b-c666-907ee4c6ae2b"
      },
      "outputs": [],
      "source": [
        "def simular_una_corrida(lambda_val, tiempo_total=1080, warmup=0):\n",
        "    \"\"\"\n",
        "    Ejecuta una corrida completa de la simulación para un lambda dado\n",
        "    y devuelve un diccionario con los resultados.\n",
        "    \"\"\"\n",
        "    # --- Parámetros y Almacenamiento ---\n",
        "    aviones_activos = []\n",
        "    aviones_finalizados = []\n",
        "    next_avion_id = 1\n",
        "    TIEMPO_IDEAL_VIAJE = 23.4  # Nuestro baseline en minutos\n",
        "\n",
        "    # --- Contadores para ESTA corrida específica ---\n",
        "    resultados_de_la_corrida = {\n",
        "        'total_delay_min': 0.0,\n",
        "        'congestion_events': 0,\n",
        "        'diversions': 0,\n",
        "        'landed_planes': 0\n",
        "    }\n",
        "\n",
        "    # --- Bucle de un día de simulación ---\n",
        "    for minuto in range(tiempo_total):\n",
        "        # Generar arribos (ahora pasa el minuto de creación)\n",
        "        if random.random() < lambda_val:\n",
        "            nuevo_avion = Avion(next_avion_id, minuto)\n",
        "            aviones_activos.append(nuevo_avion)\n",
        "            next_avion_id += 1\n",
        "\n",
        "        # Actualizar estados y contar congestiones\n",
        "        actualizar_estados_y_velocidades(aviones_activos, resultados_de_la_corrida, minuto=minuto, warmup=warmup)\n",
        "\n",
        "        # Mover aviones\n",
        "        mover_aviones(aviones_activos)\n",
        "\n",
        "        # Gestionar aviones que terminaron (y contar retrasos, desvíos, aterrizajes)\n",
        "        activos_actualizados, finalizados_ahora = gestionar_aviones_finalizados(\n",
        "            minuto, aviones_activos, resultados_de_la_corrida, TIEMPO_IDEAL_VIAJE, warmup=warmup\n",
        "        )\n",
        "        aviones_activos = activos_actualizados\n",
        "        aviones_finalizados.extend(finalizados_ahora)\n",
        "\n",
        "    return resultados_de_la_corrida\n",
        "\n",
        "def ejecutar_experimentos():\n",
        "    \"\"\"\n",
        "    Función principal que ejecuta el bucle experimental para varios lambdas.\n",
        "    \"\"\"\n",
        "    # --- Configuración del Experimento ---\n",
        "    lambdas_a_probar = [0.02, 0.1, 0.2, 0.5, 1.0]\n",
        "    N_REPETICIONES = 30 # Número de veces que se repite la simulación para cada lambda\n",
        "    WARMUP_MIN = 60 \n",
        "\n",
        "    resultados_finales = []\n",
        "    print(\"--- Iniciando Bucle Experimental ---\")\n",
        "    for lambda_val in lambdas_a_probar:\n",
        "        print(f\"\\n--- Probando con λ = {lambda_val:.4f} ---\")\n",
        "        for i in range(N_REPETICIONES):\n",
        "            resultado_run = simular_una_corrida(lambda_val, warmup=WARMUP_MIN)\n",
        "            resultado_run['lambda'] = lambda_val\n",
        "            resultados_finales.append(resultado_run)\n",
        "            print(\".\", end=\"\")\n",
        "    print(\"\\n\\n--- Bucle Experimental Finalizado ---\")\n",
        "    df_resultados = pd.DataFrame(resultados_finales)\n",
        "    return df_resultados\n",
        "\n",
        "if __name__ == '__main__':\n",
        "    np.random.seed(42)\n",
        "    random.seed(42)\n",
        "    df_final_resultados = ejecutar_experimentos()"
      ]
    },
    {
      "cell_type": "markdown",
      "id": "21ffdfc3",
      "metadata": {
        "id": "21ffdfc3"
      },
      "source": [
        "Después de ejecutar todas las simulaciones, obtenemos una gran cantidad de datos crudos (un resultado por cada una de las 30 corridas para cada λ). El siguiente paso es \"darle sentido al caos\". Usando la librería Pandas, agrupamos los resultados por cada valor de λ y calculamos las estadísticas fundamentales: el promedio (nuestra mejor estimación del comportamiento), la desviación estándar (qué tan variables son los resultados) y el error estándar (qué tan precisa es nuestra estimación del promedio). Esto transforma la \"sábana\" de datos en una tabla de resumen clara y lista para el análisis."
      ]
    },
    {
      "cell_type": "code",
      "execution_count": null,
      "id": "654b0d62",
      "metadata": {
        "colab": {
          "base_uri": "https://localhost:8080/",
          "height": 275
        },
        "id": "654b0d62",
        "outputId": "6eaf71e1-f553-42bb-bf8d-52d0edd3cbbc"
      },
      "outputs": [],
      "source": [
        "df_estadisticas = df_final_resultados.groupby('lambda').agg(\n",
        "    atraso_promedio=('total_delay_min', 'mean'),\n",
        "    congestion_promedio=('congestion_events', 'mean'),\n",
        "    desvios_promedio=('diversions', 'mean'),\n",
        "    aterrizajes_promedio=('landed_planes', 'mean'),\n",
        "    atraso_std=('total_delay_min', 'std'),\n",
        "    congestion_std=('congestion_events', 'std'),\n",
        "    desvios_std=('diversions', 'std'),\n",
        "    n_simulaciones=('lambda', 'count')\n",
        ")\n",
        "\n",
        "# 2. Calcular el Error Estándar de la Media (nuestro error de estimación)\n",
        "df_estadisticas['atraso_error'] = df_estadisticas['atraso_std'] / np.sqrt(df_estadisticas['n_simulaciones'])\n",
        "df_estadisticas['congestion_error'] = df_estadisticas['congestion_std'] / np.sqrt(df_estadisticas['n_simulaciones'])\n",
        "df_estadisticas['desvios_error'] = df_estadisticas['desvios_std'] / np.sqrt(df_estadisticas['n_simulaciones'])\n",
        "\n",
        "# 3. Calcular el atraso promedio POR AVIÓN\n",
        "df_estadisticas['atraso_por_avion_promedio'] = df_estadisticas['atraso_promedio'] / df_estadisticas['aterrizajes_promedio']\n",
        "\n",
        "# Mostramos la tabla final de resultados\n",
        "print(\"--- Tabla de Estadísticas por Valor de λ ---\")\n",
        "display(df_estadisticas)\n"
      ]
    },
    {
      "cell_type": "markdown",
      "id": "a12b56bc",
      "metadata": {
        "id": "a12b56bc"
      },
      "source": [
        "### Congestión\n",
        "\n",
        "Al observar la columna congestion_promedio en la tabla de estadísticas, vemos datos concluyentes: Para un λ=0.02 (baja demanda), la simulación estima un promedio de solo 8.0 ± 1.3 eventos de congestión por día. Al subir a λ=0.2, un aumento de 10 veces en la probabilidad de arribo, los eventos de congestión se disparan más de 80 veces, a 647.3 ± 9.3 eventos. Para λ=1.0, el sistema está en un estado de congestión constante, con un promedio de 5213 eventos por día, donde el error de estimación es cero, indicando que el colapso fue total y determinista en todas las corridas. Veamos esto de forma gráfica:"
      ]
    },
    {
      "cell_type": "code",
      "execution_count": null,
      "id": "d0d45fd3",
      "metadata": {
        "colab": {
          "base_uri": "https://localhost:8080/",
          "height": 574
        },
        "id": "d0d45fd3",
        "outputId": "afbf115f-d7e8-46ab-d262-07d0a5379f05"
      },
      "outputs": [],
      "source": [
        "plt.figure(figsize=(10, 6))\n",
        "plt.bar(\n",
        "    df_estadisticas.index.astype(str),\n",
        "    df_estadisticas['congestion_promedio'],\n",
        "    yerr=df_estadisticas['congestion_error'],\n",
        "    capsize=5,\n",
        "    color='skyblue'\n",
        ")\n",
        "plt.title('Frecuencia de Congestiones vs. Tasa de Arribo (λ)', fontsize=14)\n",
        "plt.xlabel('Valor de λ (Probabilidad de arribo por minuto)', fontsize=12)\n",
        "plt.ylabel('Promedio de Eventos de Congestión por Día', fontsize=12)\n",
        "plt.grid(axis='y', linestyle='--', alpha=0.7)\n",
        "plt.show()"
      ]
    },
    {
      "cell_type": "markdown",
      "id": "de63a240",
      "metadata": {
        "id": "de63a240"
      },
      "source": [
        "El gráfico muestra un crecimiento exponencial, evidenciando que la congestión es un problema que empeora rápidamente con el aumento de la demanda."
      ]
    },
    {
      "cell_type": "markdown",
      "id": "3edd7484",
      "metadata": {
        "id": "3edd7484"
      },
      "source": [
        "### Atraso promedio por avión\n",
        "\n",
        "Ahora veamos el atraso promedio por avión. Viendo la tabla, se ve que Para λ=0.02, el atraso es casi nulo, con un promedio de 0.05 minutos/avión. Crece a 0.84 minutos/avión para λ=0.10 y alcanza su pico en 1.25 minutos/avión para λ=0.20. Sorprendentemente, para valores de λ muy altos (0.50 y 1.0), el atraso por avión que logra aterrizar cae a 0.56 y 0.02 minutos respectivamente. Esto es una clara señal de colapso del sistema: los aviones no llegan a acumular retraso porque el sistema está tan saturado que los desvía masivamente antes de que puedan completar la aproximación. Solo los pocos que logran aterrizar lo hacen sin demora. Gráficamente se ve asi:"
      ]
    },
    {
      "cell_type": "code",
      "execution_count": null,
      "id": "3abcced1",
      "metadata": {
        "colab": {
          "base_uri": "https://localhost:8080/",
          "height": 575
        },
        "id": "3abcced1",
        "outputId": "7d2323a9-553e-4630-cdc3-eed08ecf7442"
      },
      "outputs": [],
      "source": [
        "plt.figure(figsize=(10, 6))\n",
        "plt.bar(\n",
        "    df_estadisticas.index.astype(str),\n",
        "    df_estadisticas['atraso_por_avion_promedio'],\n",
        "    # Nota: El error de estimación aquí corresponde al atraso total, pero sirve como indicador de variabilidad.\n",
        "    yerr=(df_estadisticas['atraso_error'] / df_estadisticas['aterrizajes_promedio']),\n",
        "    capsize=5,\n",
        "    color='salmon'\n",
        ")\n",
        "plt.title('Atraso Promedio por Avión vs. Tasa de Arribo (λ)', fontsize=14)\n",
        "plt.xlabel('Valor de λ (Probabilidad de arribo por minuto)', fontsize=12)\n",
        "plt.ylabel('Atraso Promedio por Avión (Minutos)', fontsize=12)\n",
        "plt.grid(axis='y', linestyle='--', alpha=0.7)\n",
        "plt.show()"
      ]
    },
    {
      "cell_type": "markdown",
      "id": "8b33d862",
      "metadata": {
        "id": "8b33d862"
      },
      "source": [
        "### Frecuencia de Desvíos a Montevideo vs. λ\n",
        "\n",
        "Viendo la tabla vemos que para λ=0.02, los desvíos son bajos, con un promedio de 0.7 ± 0.1 desvíos por día. La frecuencia crece de forma alarmante: para λ=0.2, ya son 37.0 ± 1.5 desvíos. Finalmente, para λ=1.0, el sistema colapsa por completo y desvía un promedio de 806 aviones, lo que significa que la inmensa mayoría de los aviones que intentan llegar no pueden aterrizar. El error de estimación para λ=1.0 es cero, lo que nuevamente indica que en todas las corridas el resultado fue idéntico: el sistema se saturó de forma determinista."
      ]
    },
    {
      "cell_type": "code",
      "execution_count": null,
      "id": "d325472f",
      "metadata": {
        "colab": {
          "base_uri": "https://localhost:8080/",
          "height": 574
        },
        "id": "d325472f",
        "outputId": "3fdbfee5-6071-432e-ed19-7655ae9eeff9"
      },
      "outputs": [],
      "source": [
        "plt.figure(figsize=(10, 6))\n",
        "plt.bar(\n",
        "    df_estadisticas.index.astype(str),\n",
        "    df_estadisticas['desvios_promedio'],\n",
        "    yerr=df_estadisticas['desvios_error'],\n",
        "    capsize=5,\n",
        "    color='lightcoral'\n",
        ")\n",
        "plt.title('Frecuencia de Desvíos vs. Tasa de Arribo (λ)', fontsize=14)\n",
        "plt.xlabel('Valor de λ (Probabilidad de arribo por minuto)', fontsize=12)\n",
        "plt.ylabel('Promedio de Desvíos por Día', fontsize=12)\n",
        "plt.grid(axis='y', linestyle='--', alpha=0.7)\n",
        "plt.show()"
      ]
    },
    {
      "cell_type": "markdown",
      "id": "e5cfdc34",
      "metadata": {},
      "source": [
        "### Proporcion de Congestion y desvios"
      ]
    },
    {
      "cell_type": "code",
      "execution_count": null,
      "id": "46611509",
      "metadata": {},
      "outputs": [],
      "source": [
        "proporcion_congestion = df_estadisticas['congestion_promedio'] / df_estadisticas['aterrizajes_promedio']\n",
        "proporcion_desvios = df_estadisticas['desvios_promedio'] / (df_estadisticas['aterrizajes_promedio'] + df_estadisticas['desvios_promedio'])\n",
        "plt.figure(figsize=(10, 6))\n",
        "plt.bar(df_estadisticas.index.astype(str), proporcion_congestion, color='skyblue', label='Congestión por avión')\n",
        "plt.bar(df_estadisticas.index.astype(str), proporcion_desvios, color='salmon', alpha=0.7, label='Desvíos (%)')\n",
        "plt.xlabel('Valor de λ')\n",
        "plt.ylabel('Proporción')\n",
        "plt.title('Proporción de Congestión y Desvíos vs. Tasa de Arribo (λ)')\n",
        "plt.legend()\n",
        "plt.show()"
      ]
    },
    {
      "cell_type": "markdown",
      "id": "f6bb103f",
      "metadata": {
        "id": "f6bb103f"
      },
      "source": [
        "---"
      ]
    },
    {
      "cell_type": "markdown",
      "id": "65f12ef4",
      "metadata": {
        "id": "65f12ef4"
      },
      "source": [
        "## Ejercicio 5"
      ]
    },
    {
      "cell_type": "markdown",
      "id": "7dbe3ce5",
      "metadata": {
        "id": "7dbe3ce5"
      },
      "source": [
        "En este experimento, introducimos una nueva fuente de incertidumbre para medir la resiliencia del sistema. Se simula un \"día ventoso\", donde existe un factor externo e impredecible (el viento) que puede interrumpir una aproximación en cualquier momento, independientemente del nivel de tráfico. La hipótesis es que esta disrupción constante degradará significativamente el rendimiento general del aeropuerto, incluso para niveles de demanda bajos."
      ]
    },
    {
      "cell_type": "markdown",
      "id": "3dcd4b60",
      "metadata": {
        "id": "3dcd4b60"
      },
      "source": [
        "#### Metodología\n",
        "\n",
        "Para modelar este escenario, se modificó la lógica de la simulación para introducir una disrupción estocástica. Se crearon nuevas funciones (_viento) para encapsular el comportamiento del sistema bajo esta nueva condición.\n",
        "\n",
        "La modificación principal se encuentra en la función gestionar_logica_aproximacion_viento. En cada paso de tiempo (cada minuto), todos los aviones en estado APROXIMANDO tienen una probabilidad fija del 10% de ser forzados a abortar su aterrizaje debido al viento.\n",
        "\n",
        "Para distinguir la causa de la maniobra, se crearon dos nuevos estados:\n",
        "\n",
        "- REGRESANDO_VIENTO: Para un avión que se da la vuelta por el evento aleatorio de viento.\n",
        "\n",
        "- REGRESANDO_DISTANCIA: Para un avión que se da la vuelta por la congestión del tráfico, como en el modelo original.\n",
        "\n",
        "La función gestionar_logica_regreso_viento ahora maneja ambos tipos de regreso, buscando un hueco de 10 minutos para reincorporarse a la fila. La condición adicional de que un avión afectado por el viento debe estar a más de 5 mn de la pista para buscar un hueco simula un período de estabilización tras la interrupción. Finalmente, el arnés experimental ejecutar_experimentos_viento ejecuta el modelo modificado para los distintos valores de λ y recolecta los datos de rendimiento para el análisis comparativo."
      ]
    },
    {
      "cell_type": "code",
      "execution_count": null,
      "id": "ceb97194",
      "metadata": {
        "id": "ceb97194"
      },
      "outputs": [],
      "source": [
        "def gestionar_logica_regreso_viento(avion_regresando, todos_los_aviones, resultados=None, minuto=None, warmup=0):\n",
        "    \"\"\"\n",
        "    Implementa la lógica específica para un avión afectado por VIENTO.\n",
        "    Vuela hacia atrás por la fila buscando el PRIMER hueco que cumpla dos condiciones:\n",
        "    1. Gap temporal de al menos 10 minutos.\n",
        "    2. Estar a más de 5 millas náuticas de AEP.\n",
        "    \"\"\"\n",
        "    # 1. Condición de desvío (sin cambios)\n",
        "    if avion_regresando.distancia_a_aep > 100:\n",
        "        if avion_regresando.estado != \"DESVIADO\":\n",
        "            avion_regresando.estado = \"DESVIADO\"\n",
        "            if resultados is not None and minuto is not None and minuto >= warmup:\n",
        "                resultados['diversions'] += 1\n",
        "            print(f\" (X) Avion {avion_regresando.id} no encontró hueco y se desvió a Montevideo.\")\n",
        "        return\n",
        "\n",
        "    # 2. Búsqueda de hueco con la DOBLE CONDICIÓN\n",
        "    # El avión solo tiene permitido buscar un hueco si está a una distancia segura (> 5mn)\n",
        "    elif avion_regresando.distancia_a_aep > 5 and buscar_gap(avion_regresando, todos_los_aviones):\n",
        "        # Si ambas condiciones se cumplen (está lejos Y hay espacio), reingresa.\n",
        "        avion_regresando.estado = \"APROXIMANDO\"\n",
        "        print(f\" (O) ¡Avion {avion_regresando.id} encontró un hueco con buscar_gap() (>5mn) y reingresa a la fila!\")"
      ]
    },
    {
      "cell_type": "code",
      "execution_count": null,
      "id": "c2a25d1d",
      "metadata": {
        "id": "c2a25d1d"
      },
      "outputs": [],
      "source": [
        "def generar_nuevos_aviones_viento(minuto, aviones, next_id, probabilidad):\n",
        "    \"\"\"Decide si un nuevo avión aparece en el horizonte.\"\"\"\n",
        "    if np.random.uniform(0,1) < probabilidad:\n",
        "        nuevo_avion = Avion(next_id, minuto)\n",
        "        aviones.append(nuevo_avion)\n",
        "        print(f\"Min {minuto}: -> Aparece Avion {next_id} en el horizonte.\")\n",
        "        return next_id + 1\n",
        "    return next_id\n",
        "\n",
        "def actualizar_estados_y_velocidades_viento(aviones, resultados=None, minutos=None, warmup=0):\n",
        "    \"\"\"\n",
        "    Actualiza el estado de cada avión. Actúa como un 'despachador'\n",
        "    para los aviones que regresan, enviándolos a la lógica correcta.\n",
        "    \"\"\"\n",
        "    todos_los_aviones = list(aviones)\n",
        "    \n",
        "    aviones.sort(key=lambda avion: avion.distancia_a_aep)\n",
        "    \n",
        "    for avion in aviones:\n",
        "        # --- Lógica del Despachador ---\n",
        "        if avion.estado == \"REGRESANDO_VIENTO\":\n",
        "            # Si regresa por viento, usa la lógica específica de viento (buscar primer hueco > 5mn)\n",
        "            gestionar_logica_regreso_viento(avion, todos_los_aviones, resultados, minutos, warmup)\n",
        "\n",
        "        elif avion.estado == \"REGRESANDO_DISTANCIA\":\n",
        "            # Si regresa por congestión, usa la lógica original (función buscar_gap)\n",
        "            gestionar_logica_regreso(avion, todos_los_aviones, resultados, minutos, warmup)\n",
        "\n",
        "        else: \n",
        "            try:\n",
        "                # Encuentra el índice del avión actual en la lista ordenada\n",
        "                i = aviones.index(avion)\n",
        "                avion_de_adelante = aviones[i-1] if i > 0 else None\n",
        "                # Asegurarse de que el de adelante no esté en regreso\n",
        "                if avion_de_adelante and avion_de_adelante.estado in [\"REGRESANDO_VIENTO\", \"REGRESANDO_DISTANCIA\"]:\n",
        "                    avion_de_adelante = None\n",
        "            except ValueError:\n",
        "                avion_de_adelante = None\n",
        "            \n",
        "            gestionar_logica_aproximacion(avion, avion_de_adelante)\n",
        "\n",
        "        if resultados is not None and avion.estado == \"AJUSTANDO_VELOCIDAD\":\n",
        "            resultados['congestion_events'] += 1\n",
        "\n",
        "def mover_aviones_viento(aviones):\n",
        "    \"\"\"Mueve cada avión según su velocidad final para este minuto.\"\"\"\n",
        "    for avion in aviones:\n",
        "        distancia_recorrida = avion.velocidad_actual / 60\n",
        "        if avion.estado == \"REGRESANDO_VIENTO\" or avion.estado == \"REGRESANDO_DISTANCIA\":\n",
        "            avion.distancia_a_aep += distancia_recorrida\n",
        "        else:\n",
        "            avion.distancia_a_aep -= distancia_recorrida\n",
        "\n",
        "def gestionar_aviones_finalizados_viento(minuto, aviones, resultados=None, tiempo_ideal=23.4, warmup=0):\n",
        "    aviones_activos = []\n",
        "    aviones_finalizados_hoy = []\n",
        "    for avion in aviones:\n",
        "        if avion.distancia_a_aep <= 0:\n",
        "            if np.random.uniform(0,1) < 0.1: # 10% de probabilidad de viento\n",
        "                avion.estado = \"REGRESANDO_VIENTO\"\n",
        "                avion.velocidad_actual = 200\n",
        "                print(f\" (!) Avion {avion.id} inicia maniobra de regreso por viento.\")\n",
        "            else:\n",
        "                avion.estado = \"ATERRIZADO\"\n",
        "                if resultados is not None and minuto is not None and minuto >= warmup:\n",
        "                    tiempo_real = minuto - avion.minuto_creacion\n",
        "                    retraso = max(0, tiempo_real - tiempo_ideal)\n",
        "                    resultados['total_delay_min'] += retraso\n",
        "                    resultados['landed_planes'] += 1\n",
        "                aviones_finalizados_hoy.append(avion)\n",
        "        elif avion.estado == \"DESVIADO\":\n",
        "            # Solo sumar si no fue contado antes\n",
        "            if resultados is not None and minuto is not None and minuto >= warmup:\n",
        "                resultados['diversions'] += 1\n",
        "                avion.desvio_contado = True\n",
        "            aviones_finalizados_hoy.append(avion)\n",
        "        else:\n",
        "            aviones_activos.append(avion)\n",
        "    return aviones_activos, aviones_finalizados_hoy\n",
        "\n",
        "def guardar_datos_del_minuto_viento(minuto, aviones, historial):\n",
        "    \"\"\"Guarda el estado de cada avión en el minuto actual.\"\"\"\n",
        "    for avion in aviones:\n",
        "        historial.append({\n",
        "            'minuto': minuto,\n",
        "            'id': avion.id,\n",
        "            'distancia': avion.distancia_a_aep,\n",
        "            'estado': avion.estado\n",
        "        })"
      ]
    },
    {
      "cell_type": "code",
      "execution_count": null,
      "id": "51002540",
      "metadata": {
        "colab": {
          "base_uri": "https://localhost:8080/"
        },
        "id": "51002540",
        "outputId": "3dabf248-08e1-4418-d274-4a11b46228b9"
      },
      "outputs": [],
      "source": [
        "def simular_una_corrida_viento(lambda_val, tiempo_total=2160, warmup=0):\n",
        "    \"\"\"\n",
        "    Ejecuta una corrida completa de la simulación para un lambda dado\n",
        "    y devuelve un diccionario con los resultados.\n",
        "    \"\"\"\n",
        "    # --- Parámetros y Almacenamiento ---\n",
        "    aviones_activos = []\n",
        "    aviones_finalizados = []\n",
        "    next_avion_id = 1\n",
        "    TIEMPO_IDEAL_VIAJE = 23.4  # Nuestro baseline en minutos\n",
        "\n",
        "    # --- Contadores para ESTA corrida específica ---\n",
        "    resultados_de_la_corrida = {\n",
        "        'total_delay_min': 0.0,\n",
        "        'congestion_events': 0,\n",
        "        'diversions': 0,\n",
        "        'landed_planes': 0\n",
        "    }\n",
        "\n",
        "    # --- Bucle de un día de simulación ---\n",
        "    for minuto in range(tiempo_total):\n",
        "        # Generar arribos (ahora pasa el minuto de creación)\n",
        "        if random.random() < lambda_val:\n",
        "            nuevo_avion = Avion(next_avion_id, minuto)\n",
        "            aviones_activos.append(nuevo_avion)\n",
        "            next_avion_id += 1\n",
        "\n",
        "        # Actualizar estados y contar congestiones\n",
        "        actualizar_estados_y_velocidades_viento(aviones_activos, resultados_de_la_corrida, minuto, warmup)\n",
        "\n",
        "        # Mover aviones\n",
        "        mover_aviones_viento(aviones_activos)\n",
        "\n",
        "        # Gestionar aviones que terminaron (y contar retrasos, desvíos, aterrizajes)\n",
        "        activos_actualizados, finalizados_ahora = gestionar_aviones_finalizados_viento(\n",
        "            minuto, aviones_activos, resultados_de_la_corrida, TIEMPO_IDEAL_VIAJE, warmup=warmup\n",
        "        )\n",
        "        aviones_activos = activos_actualizados\n",
        "        aviones_finalizados.extend(finalizados_ahora)\n",
        "\n",
        "    return resultados_de_la_corrida\n",
        "\n",
        "def ejecutar_experimentos_viento():\n",
        "    \"\"\"\n",
        "    Función principal que ejecuta el bucle experimental para varios lambdas.\n",
        "    \"\"\"\n",
        "    # --- Configuración del Experimento ---\n",
        "    lambdas_a_probar = [0.02, 0.1, 0.2, 0.5, 1.0]\n",
        "    N_REPETICIONES = 30\n",
        "    warmup = 60\n",
        "    resultados_finales = []\n",
        "    print(\"--- Iniciando Bucle Experimental ---\")\n",
        "    for lambda_val in lambdas_a_probar:\n",
        "        print(f\"\\n--- Probando con λ = {lambda_val:.4f} ---\")\n",
        "        for i in range(N_REPETICIONES):\n",
        "            resultado_run = simular_una_corrida_viento(lambda_val, warmup=warmup)\n",
        "            resultado_run['lambda'] = lambda_val\n",
        "            resultados_finales.append(resultado_run)\n",
        "            print(\".\", end=\"\")\n",
        "    print(\"\\n\\n--- Bucle Experimental Finalizado ---\")\n",
        "    df_resultados = pd.DataFrame(resultados_finales)\n",
        "    return df_resultados\n",
        "\n",
        "\n",
        "if __name__ == '__main__':\n",
        "    np.random.seed(42)\n",
        "    random.seed(42)\n",
        "    df_final_resultados_viento = ejecutar_experimentos_viento()"
      ]
    },
    {
      "cell_type": "code",
      "execution_count": null,
      "id": "767c7dbb",
      "metadata": {
        "colab": {
          "base_uri": "https://localhost:8080/",
          "height": 275
        },
        "id": "767c7dbb",
        "outputId": "d51c0430-2126-4981-c2dd-f617a44ff12e"
      },
      "outputs": [],
      "source": [
        "df_estadisticas_viento = df_final_resultados_viento.groupby('lambda').agg(\n",
        "    atraso_promedio=('total_delay_min', 'mean'),\n",
        "    congestion_promedio=('congestion_events', 'mean'),\n",
        "    desvios_promedio=('diversions', 'mean'),\n",
        "    aterrizajes_promedio=('landed_planes', 'mean'),\n",
        "    atraso_std=('total_delay_min', 'std'),\n",
        "    congestion_std=('congestion_events', 'std'),\n",
        "    desvios_std=('diversions', 'std'),\n",
        "    n_simulaciones=('lambda', 'count')\n",
        ")\n",
        "\n",
        "# 2. Calcular el Error Estándar de la Media (nuestro error de estimación)\n",
        "df_estadisticas_viento['atraso_error'] = df_estadisticas_viento['atraso_std'] / np.sqrt(df_estadisticas_viento['n_simulaciones'])\n",
        "df_estadisticas_viento['congestion_error'] = df_estadisticas_viento['congestion_std'] / np.sqrt(df_estadisticas_viento['n_simulaciones'])\n",
        "df_estadisticas_viento['desvios_error'] = df_estadisticas_viento['desvios_std'] / np.sqrt(df_estadisticas_viento['n_simulaciones'])\n",
        "\n",
        "# 3. Calcular el atraso promedio POR AVIÓN\n",
        "df_estadisticas_viento['atraso_por_avion_promedio'] = df_estadisticas_viento['atraso_promedio'] / df_estadisticas_viento['aterrizajes_promedio']\n",
        "\n",
        "# Mostramos la tabla final de resultados\n",
        "print(\"--- Tabla de Estadísticas por Valor de λ ---\")\n",
        "display(df_estadisticas_viento)"
      ]
    },
    {
      "cell_type": "markdown",
      "id": "397f4e7d",
      "metadata": {
        "id": "397f4e7d"
      },
      "source": [
        "### Congestión promedio con Viento"
      ]
    },
    {
      "cell_type": "code",
      "execution_count": null,
      "id": "35752f3b",
      "metadata": {
        "colab": {
          "base_uri": "https://localhost:8080/",
          "height": 574
        },
        "id": "35752f3b",
        "outputId": "198342e1-146c-4673-f7e3-afd03a82cf89"
      },
      "outputs": [],
      "source": [
        "plt.figure(figsize=(10, 6))\n",
        "plt.bar(\n",
        "    df_estadisticas_viento.index.astype(str),\n",
        "    df_estadisticas_viento['congestion_promedio'],\n",
        "    yerr=df_estadisticas_viento['congestion_error'],\n",
        "    capsize=5,\n",
        "    color='skyblue'\n",
        ")\n",
        "plt.title('Frecuencia de Congestiones con Viento vs. Tasa de Arribo (λ)', fontsize=14)\n",
        "plt.xlabel('Valor de λ (Probabilidad de arribo por minuto)', fontsize=12)\n",
        "plt.ylabel('Promedio de Eventos de Congestión por Día', fontsize=12)\n",
        "plt.grid(axis='y', linestyle='--', alpha=0.7)\n",
        "plt.show()"
      ]
    },
    {
      "cell_type": "markdown",
      "id": "c0565b84",
      "metadata": {
        "id": "c0565b84"
      },
      "source": [
        "### Atraso promedio por Avión con Viento"
      ]
    },
    {
      "cell_type": "code",
      "execution_count": null,
      "id": "124c33b4",
      "metadata": {
        "colab": {
          "base_uri": "https://localhost:8080/",
          "height": 575
        },
        "id": "124c33b4",
        "outputId": "b34f3a19-23ae-4b4d-d255-3c011304303f"
      },
      "outputs": [],
      "source": [
        "plt.figure(figsize=(10, 6))\n",
        "plt.bar(\n",
        "    df_estadisticas_viento.index.astype(str),\n",
        "    df_estadisticas_viento['atraso_por_avion_promedio'],\n",
        "    # Nota: El error de estimación aquí corresponde al atraso total, pero sirve como indicador de variabilidad.\n",
        "    yerr=(df_estadisticas_viento['atraso_error'] / df_estadisticas_viento['aterrizajes_promedio']),\n",
        "    capsize=5,\n",
        "    color='salmon'\n",
        ")\n",
        "plt.title('Atraso Promedio por Avión con Viento vs. Tasa de Arribo (λ)', fontsize=14)\n",
        "plt.xlabel('Valor de λ (Probabilidad de arribo por minuto)', fontsize=12)\n",
        "plt.ylabel('Atraso Promedio por Avión (Minutos)', fontsize=12)\n",
        "plt.grid(axis='y', linestyle='--', alpha=0.7)\n",
        "plt.show()"
      ]
    },
    {
      "cell_type": "markdown",
      "id": "3f146f6d",
      "metadata": {
        "id": "3f146f6d"
      },
      "source": [
        "### Frecuencia de Desvíos con Viento"
      ]
    },
    {
      "cell_type": "code",
      "execution_count": null,
      "id": "d652a500",
      "metadata": {
        "colab": {
          "base_uri": "https://localhost:8080/",
          "height": 574
        },
        "id": "d652a500",
        "outputId": "91900b67-193e-42b2-f63b-6d2b149456ff"
      },
      "outputs": [],
      "source": [
        "plt.figure(figsize=(10, 6))\n",
        "plt.bar(\n",
        "    df_estadisticas_viento.index.astype(str),\n",
        "    df_estadisticas_viento['desvios_promedio'],\n",
        "    yerr=df_estadisticas_viento['desvios_error'],\n",
        "    capsize=5,\n",
        "    color='lightcoral'\n",
        ")\n",
        "plt.title('Frecuencia de Desvíos con Viento vs. Tasa de Arribo (λ)', fontsize=14)\n",
        "plt.xlabel('Valor de λ (Probabilidad de arribo por minuto)', fontsize=12)\n",
        "plt.ylabel('Promedio de Desvíos por Día', fontsize=12)\n",
        "plt.grid(axis='y', linestyle='--', alpha=0.7)\n",
        "plt.show()"
      ]
    },
    {
      "cell_type": "markdown",
      "id": "535f1f16",
      "metadata": {},
      "source": [
        "### Proporcion Congestión y desvios"
      ]
    },
    {
      "cell_type": "code",
      "execution_count": null,
      "id": "0c82255e",
      "metadata": {},
      "outputs": [],
      "source": [
        "proporcion_congestion = df_estadisticas_viento['congestion_promedio'] / df_estadisticas_viento['aterrizajes_promedio']\n",
        "proporcion_desvios = df_estadisticas_viento['desvios_promedio'] / (df_estadisticas_viento['aterrizajes_promedio'] + df_estadisticas_viento['desvios_promedio'])\n",
        "plt.figure(figsize=(10, 6))\n",
        "plt.bar(df_estadisticas_viento.index.astype(str), proporcion_congestion, color='skyblue', label='Congestión por avión')\n",
        "plt.bar(df_estadisticas_viento.index.astype(str), proporcion_desvios, color='salmon', alpha=0.7, label='Desvíos (%)')\n",
        "plt.xlabel('Valor de λ')\n",
        "plt.ylabel('Proporción')\n",
        "plt.title('Proporción de Congestión y Desvíos vs. Tasa de Arribo (λ)')\n",
        "plt.legend()\n",
        "plt.show()"
      ]
    },
    {
      "cell_type": "markdown",
      "id": "75b4f219",
      "metadata": {
        "id": "75b4f219"
      },
      "source": [
        "### Comparación con Caso Normal (Ej 4)"
      ]
    },
    {
      "cell_type": "code",
      "execution_count": null,
      "id": "0eace6be",
      "metadata": {
        "colab": {
          "base_uri": "https://localhost:8080/",
          "height": 396
        },
        "id": "0eace6be",
        "outputId": "8b4d4787-f9b9-4d2f-8796-f1362c8f142b"
      },
      "outputs": [],
      "source": [
        "import matplotlib.pyplot as plt\n",
        "import seaborn as sns\n",
        "\n",
        "\n",
        "sns.set_theme(style=\"whitegrid\")\n",
        "fig, axes = plt.subplots(1, 3, figsize=(20, 6), sharex=True)\n",
        "fig.suptitle('Impacto de una Tormenta de 30 Minutos en la Operación de AEP', fontsize=18, weight='bold')\n",
        "\n",
        "# --- Panel 1: Congestión ---\n",
        "ax1 = axes[0]\n",
        "ax1.plot(df_estadisticas.index, df_estadisticas['congestion_promedio'], marker='o', linestyle='--', color='royalblue', label='Día Normal')\n",
        "ax1.plot(df_estadisticas_viento.index, df_estadisticas_viento['congestion_promedio'], marker='o', linestyle='-', color='firebrick', label='Con Tormenta')\n",
        "ax1.set_title('Eventos de Congestión', fontsize=14)\n",
        "ax1.set_ylabel('Promedio de Eventos por Día')\n",
        "ax1.legend()\n",
        "\n",
        "# --- Panel 2: Atraso por Avión ---\n",
        "ax2 = axes[1]\n",
        "ax2.plot(df_estadisticas.index, df_estadisticas['atraso_por_avion_promedio'], marker='o', linestyle='--', color='royalblue', label='Día Normal')\n",
        "ax2.plot(df_estadisticas_viento.index, df_estadisticas_viento['atraso_por_avion_promedio'], marker='o', linestyle='-', color='firebrick', label='Con Tormenta')\n",
        "ax2.set_title('Atraso Promedio por Avión', fontsize=14)\n",
        "ax2.set_ylabel('Minutos de Atraso por Avión')\n",
        "ax2.set_xlabel('Tasa de Arribo (λ)', fontsize=12)\n",
        "\n",
        "# --- Panel 3: Desvíos ---\n",
        "ax3 = axes[2]\n",
        "ax3.plot(df_estadisticas.index, df_estadisticas['desvios_promedio'], marker='o', linestyle='--', color='royalblue', label='Día Normal')\n",
        "ax3.plot(df_estadisticas_viento.index, df_estadisticas_viento['desvios_promedio'], marker='o', linestyle='-', color='firebrick', label='Con Tormenta')\n",
        "ax3.set_title('Desvíos a Montevideo', fontsize=14)\n",
        "ax3.set_ylabel('Promedio de Desvíos por Día')\n",
        "\n",
        "plt.tight_layout(rect=[0, 0.03, 1, 0.95])\n",
        "plt.show()"
      ]
    },
    {
      "cell_type": "code",
      "execution_count": null,
      "id": "593e2e7b",
      "metadata": {
        "colab": {
          "base_uri": "https://localhost:8080/",
          "height": 738
        },
        "id": "593e2e7b",
        "outputId": "3e3e002a-76cf-429c-fa86-df49f8578edb"
      },
      "outputs": [],
      "source": [
        "# Seleccionamos un valor de lambda para comparar (ej: 0.2)\n",
        "lambda_a_comparar = 0.2\n",
        "stats_normal = df_estadisticas.loc[lambda_a_comparar]\n",
        "stats_tormenta = df_estadisticas_viento.loc[lambda_a_comparar]\n",
        "\n",
        "# Métricas a graficar (pueden ser más de 3)\n",
        "labels = ['Congestión', 'Atraso por Avión (min)', 'Desvíos']\n",
        "valores_normal = [stats_normal['congestion_promedio'], stats_normal['atraso_por_avion_promedio'], stats_normal['desvios_promedio']]\n",
        "valores_tormenta = [stats_tormenta['congestion_promedio'], stats_tormenta['atraso_por_avion_promedio'], stats_tormenta['desvios_promedio']]\n",
        "\n",
        "# Preparar el gráfico radar\n",
        "angles = np.linspace(0, 2 * np.pi, len(labels), endpoint=False).tolist()\n",
        "valores_normal += valores_normal[:1] # Cerrar el círculo\n",
        "valores_tormenta += valores_tormenta[:1]\n",
        "angles += angles[:1]\n",
        "\n",
        "fig, ax = plt.subplots(figsize=(8, 8), subplot_kw=dict(polar=True))\n",
        "ax.set_theta_offset(np.pi / 2)\n",
        "ax.set_theta_direction(-1)\n",
        "\n",
        "# Dibujar los ejes\n",
        "ax.set_thetagrids(np.degrees(angles[:-1]), labels)\n",
        "\n",
        "# Dibujar las líneas y rellenar las áreas\n",
        "ax.plot(angles, valores_normal, 'o--', color='royalblue', label='Día Normal')\n",
        "ax.fill(angles, valores_normal, 'royalblue', alpha=0.1)\n",
        "\n",
        "ax.plot(angles, valores_tormenta, 'o-', color='firebrick', label='Con Tormenta')\n",
        "ax.fill(angles, valores_tormenta, 'firebrick', alpha=0.25)\n",
        "\n",
        "ax.set_title(f'Perfil de Rendimiento del Sistema (λ={lambda_a_comparar})', size=16, y=1.1)\n",
        "ax.legend(loc='upper right', bbox_to_anchor=(1.3, 1.1))\n",
        "plt.show()"
      ]
    },
    {
      "cell_type": "markdown",
      "id": "4d2ec44b",
      "metadata": {
        "id": "4d2ec44b"
      },
      "source": [
        "A partir de los gráficos, se puede ver:\n",
        "\n",
        "1. Eventos de Congestión\n",
        "\n",
        "- Con viento, la congestión cae drásticamente frente a un día normal. El sistema procesa menos operaciones y, por lo tanto, evita acumulación interna. El viento reduce presión interna en AEP, pero a costa de expulsar tráfico.\n",
        "\n",
        "2. Atraso Promedio por Avión\n",
        "\n",
        "- Los retrasos promedio por avión son sensiblemente mayores con viento, especialmente a tasas intermedias de arribo. Aunque la congestión disminuye, el impacto táctico en la puntualidad es mayor.\n",
        "\n",
        "3. Desvíos a Montevideo\n",
        "\n",
        "- Los desvíos aumentan de forma marcada en escenario con viento. El aeropuerto opera con capacidad reducida y deriva más vuelos al alternativo. El viento incrementa los costos operativos y logísticos para aerolíneas y pasajeros."
      ]
    },
    {
      "cell_type": "markdown",
      "id": "b8c372a1",
      "metadata": {
        "id": "b8c372a1"
      },
      "source": [
        "### Conclusiones\n",
        "\n",
        "La hipótesis general se confirma: el rendimiento del sistema en un día ventoso es catastróficamente peor.\n",
        "\n",
        "Si bien el viento no genera congestión estructural en AEP, si empeora la calidad del servicio aéreo: Se reducen los eventos de congestión, pero aumenta la demora individual por avión y los desvíos a Montevideo.\n",
        "\n",
        "En términos de impacto, el viento traslada el problema desde una sobrecarga del sistema hacia una pérdida de operaciones efectivas y mayor afectación directa a los usuarios."
      ]
    },
    {
      "cell_type": "markdown",
      "id": "686abbbd",
      "metadata": {
        "id": "686abbbd"
      },
      "source": [
        "---"
      ]
    },
    {
      "cell_type": "markdown",
      "id": "ef283051",
      "metadata": {
        "id": "ef283051"
      },
      "source": [
        "## Ejercicio 6"
      ]
    },
    {
      "cell_type": "markdown",
      "id": "f9de3fa2",
      "metadata": {
        "id": "f9de3fa2"
      },
      "source": [
        "Este experimento evalúa la robustez del sistema ante una disrupción operativa programada: un cierre total y sorpresivo del aeropuerto durante 30 minutos. El objetivo es cuantificar las consecuencias de este \"shock\", midiendo cómo se propaga la congestión y cuántos desvíos genera en función de la densidad del tráfico inicial (controlada por λ).\n",
        "\n",
        "### Metodología\n",
        "\n",
        "La hipótesis es que un cierre de 30 minutos, aunque breve, provocará una degradación del rendimiento del sistema significativamente mayor que la congestión normal (el escenario del Ejercicio 4). Se espera que la interrupción cree un \"embudo\" de aviones en espera. Una vez que el aeropuerto reabra, esta ola de demanda acumulada saturará la capacidad de la pista, provocando un aumento drástico en las maniobras de regreso por congestión, lo que a su vez disparará el promedio de atrasos y, sobre todo, el número de desvíos a Montevideo en comparación con el escenario base.\n",
        "\n",
        "Para modelar este escenario, se desarrolló una nueva versión del arnés experimental (_tormenta). Al inicio de cada simulación de un día, se elige un minuto_inicio_tormenta de forma aleatoria. Durante este intervalo de 30 minutos, una variable booleana aeropuerto_cerrado se vuelve True. La lógica del sistema se modifica para que cualquier avión que llegue a la pista (distancia <= 0) durante el cierre sea forzado a iniciar inmediatamente una maniobra de regreso. Este mecanismo es el que genera el \"embudo\" de tráfico cuyas consecuencias se analizarán."
      ]
    },
    {
      "cell_type": "code",
      "execution_count": null,
      "id": "0f6ead94",
      "metadata": {
        "id": "0f6ead94"
      },
      "outputs": [],
      "source": [
        "def generar_nuevos_aviones(minuto, aviones, next_id, probabilidad):\n",
        "    \"\"\"Decide si un nuevo avión aparece en el horizonte.\"\"\"\n",
        "    if np.random.uniform(0,1) < probabilidad:\n",
        "        nuevo_avion = Avion(next_id, minuto)\n",
        "        aviones.append(nuevo_avion)\n",
        "        print(f\"Min {minuto}: -> Aparece Avion {next_id} en el horizonte.\")\n",
        "        return next_id + 1\n",
        "    return next_id\n",
        "\n",
        "def actualizar_estados_y_velocidades_tormenta(aviones, resultados=None, minuto=None, warmup=0, aeropuerto_cerrado=True):\n",
        "    \"\"\"Actualiza el estado y la velocidad de cada avión según las reglas.\"\"\"\n",
        "    aviones.sort(key=lambda avion: avion.distancia_a_aep)\n",
        "    for i, avion in enumerate(aviones):\n",
        "\n",
        "        # TORMENTA: Si el aeropuerto está cerrado, todos los aviones deben regresar\n",
        "        if aeropuerto_cerrado and avion.estado != \"REGRESANDO\" and avion.distancia_a_aep < 5:\n",
        "            avion.estado = \"REGRESANDO\"\n",
        "            avion.velocidad_actual = 200\n",
        "            print(f\" (!) Avion {avion.id} inicia maniobra de regreso por tormenta.\")\n",
        "\n",
        "        if avion.estado == \"REGRESANDO\":\n",
        "            gestionar_logica_regreso(avion, aviones, resultados, minuto=minuto, warmup=warmup)\n",
        "\n",
        "        else: # APROXIMANDO o AJUSTANDO_VELOCIDAD\n",
        "            avion_de_adelante = aviones[i-1] if i > 0 and aviones[i-1].estado != \"REGRESANDO\" else None\n",
        "            gestionar_logica_aproximacion(avion, avion_de_adelante)\n",
        "\n",
        "        if resultados is not None and avion.estado == \"AJUSTANDO_VELOCIDAD\" and minuto is not None and minuto >= warmup:\n",
        "            resultados['congestion_events'] += 1\n",
        "\n",
        "def mover_aviones(aviones):\n",
        "    \"\"\"Mueve cada avión según su velocidad final para este minuto.\"\"\"\n",
        "    for avion in aviones:\n",
        "        distancia_recorrida = avion.velocidad_actual / 60\n",
        "        if avion.estado == \"REGRESANDO\":\n",
        "            avion.distancia_a_aep += distancia_recorrida\n",
        "        else:\n",
        "            avion.distancia_a_aep -= distancia_recorrida\n",
        "\n",
        "def gestionar_aviones_finalizados_tormenta(minuto, aviones, resultados=None, tiempo_ideal=23.4, aeropuerto_cerrado=True, warmup=0):\n",
        "    aviones_activos = []\n",
        "    aviones_finalizados_hoy = []\n",
        "    for avion in aviones:\n",
        "        if avion.distancia_a_aep <= 0:\n",
        "            if aeropuerto_cerrado:\n",
        "                # TORMENTA: Si el aeropuerto está cerrado, el avión no puede aterrizar y debe regresar\n",
        "                avion.estado = \"REGRESANDO\"\n",
        "                avion.velocidad_actual = 200\n",
        "                aviones_activos.append(avion)\n",
        "                print(f\" (!) Avion {avion.id} no puede aterrizar, aeropuerto cerrado. Regresando.\")\n",
        "            else:\n",
        "                avion.estado = \"ATERRIZADO\"\n",
        "                # Solo calculamos y contamos si nos pasaron el diccionario de resultados\n",
        "                if resultados is not None and minuto is not None and minuto >= warmup:\n",
        "                    tiempo_real = minuto - avion.minuto_creacion\n",
        "                    retraso = max(0, tiempo_real - tiempo_ideal)\n",
        "                    resultados['total_delay_min'] += retraso\n",
        "                    resultados['landed_planes'] += 1\n",
        "                    aviones_finalizados_hoy.append(avion)\n",
        "        elif avion.estado == \"DESVIADO\":\n",
        "            if resultados is not None and minuto is not None and minuto >= warmup:\n",
        "                resultados['diversions'] += 1\n",
        "            aviones_finalizados_hoy.append(avion)\n",
        "        else:\n",
        "            aviones_activos.append(avion)\n",
        "    return aviones_activos, aviones_finalizados_hoy\n",
        "\n",
        "def guardar_datos_del_minuto(minuto, aviones, historial):\n",
        "    \"\"\"Guarda el estado de cada avión en el minuto actual.\"\"\"\n",
        "    for avion in aviones:\n",
        "        historial.append({\n",
        "            'minuto': minuto,\n",
        "            'id': avion.id,\n",
        "            'distancia': avion.distancia_a_aep,\n",
        "            'estado': avion.estado\n",
        "        })"
      ]
    },
    {
      "cell_type": "code",
      "execution_count": null,
      "id": "18db7ac0",
      "metadata": {
        "colab": {
          "base_uri": "https://localhost:8080/"
        },
        "id": "18db7ac0",
        "outputId": "a4a8222d-aac1-41e5-dce1-c308bcb00789"
      },
      "outputs": [],
      "source": [
        "def simular_una_corrida_tormenta(lambda_val, tiempo_total=1080, warmup=0):\n",
        "    \"\"\"\n",
        "    Ejecuta una corrida completa de la simulación para un lambda dado\n",
        "    y devuelve un diccionario con los resultados.\n",
        "    \"\"\"\n",
        "    # --- Parámetros y Almacenamiento ---\n",
        "    aviones_activos = []\n",
        "    aviones_finalizados = []\n",
        "    next_avion_id = 1\n",
        "    TIEMPO_IDEAL_VIAJE = 23.4  # Nuestro baseline en minutos\n",
        "\n",
        "    # --- Contadores para ESTA corrida específica ---\n",
        "    resultados_de_la_corrida = {\n",
        "        'total_delay_min': 0.0,\n",
        "        'congestion_events': 0,\n",
        "        'diversions': 0,\n",
        "        'landed_planes': 0\n",
        "    }\n",
        "\n",
        "    duracion_tormenta = 30\n",
        "    inicio_tormenta = random.randint(0, tiempo_total - duracion_tormenta)\n",
        "    final_tormenta = inicio_tormenta + duracion_tormenta\n",
        "    print(f\"Tormenta desde el minuto {inicio_tormenta} hasta el minuto {final_tormenta}\")\n",
        "\n",
        "    # --- Bucle de un día de simulación ---\n",
        "    for minuto in range(tiempo_total):\n",
        "\n",
        "        aeropuerto_cerrado = inicio_tormenta <= minuto <= final_tormenta\n",
        "\n",
        "        # Generar arribos (ahora pasa el minuto de creación)\n",
        "        if random.random() < lambda_val:\n",
        "            nuevo_avion = Avion(next_avion_id, minuto)\n",
        "            aviones_activos.append(nuevo_avion)\n",
        "            next_avion_id += 1\n",
        "\n",
        "        # Actualizar estados y contar congestiones\n",
        "        actualizar_estados_y_velocidades_tormenta(aviones_activos, resultados_de_la_corrida, minuto=minuto, warmup=warmup, aeropuerto_cerrado=aeropuerto_cerrado)\n",
        "\n",
        "        # Mover aviones\n",
        "        mover_aviones(aviones_activos)\n",
        "\n",
        "        # Gestionar aviones que terminaron (y contar retrasos, desvíos, aterrizajes)\n",
        "        activos_actualizados, finalizados_ahora = gestionar_aviones_finalizados_tormenta(\n",
        "            minuto, aviones_activos, resultados_de_la_corrida, TIEMPO_IDEAL_VIAJE, aeropuerto_cerrado, warmup=warmup\n",
        "        )\n",
        "        aviones_activos = activos_actualizados\n",
        "        aviones_finalizados.extend(finalizados_ahora)\n",
        "\n",
        "    return resultados_de_la_corrida\n",
        "\n",
        "def ejecutar_experimentos_tormenta():\n",
        "    \"\"\"\n",
        "    Función principal que ejecuta el bucle experimental para varios lambdas.\n",
        "    \"\"\"\n",
        "    # --- Configuración del Experimento ---\n",
        "    lambdas_a_probar = [0.02, 0.1, 0.2, 0.5, 1.0]\n",
        "    N_REPETICIONES = 30\n",
        "    WARMUP_MIN = 60\n",
        "    resultados_finales = []\n",
        "    print(\"--- Iniciando Bucle Experimental ---\")\n",
        "    for lambda_val in lambdas_a_probar:\n",
        "        print(f\"\\n--- Probando con λ = {lambda_val:.4f} ---\")\n",
        "        for i in range(N_REPETICIONES):\n",
        "            resultado_run = simular_una_corrida_tormenta(lambda_val, warmup=WARMUP_MIN)\n",
        "            resultado_run['lambda'] = lambda_val\n",
        "            resultados_finales.append(resultado_run)\n",
        "            print(\".\", end=\"\")\n",
        "    print(\"\\n\\n--- Bucle Experimental Finalizado ---\")\n",
        "    df_resultados = pd.DataFrame(resultados_finales)\n",
        "    return df_resultados\n",
        "\n",
        "\n",
        "if __name__ == '__main__':\n",
        "    np.random.seed(42)\n",
        "    random.seed(42)\n",
        "    df_final_resultados_tormenta = ejecutar_experimentos_tormenta()"
      ]
    },
    {
      "cell_type": "code",
      "execution_count": null,
      "id": "2ddc8697",
      "metadata": {
        "colab": {
          "base_uri": "https://localhost:8080/",
          "height": 275
        },
        "id": "2ddc8697",
        "outputId": "38e02e65-d5cd-4e8c-993d-ab18dc7881e7"
      },
      "outputs": [],
      "source": [
        "df_estadisticas_tormenta = df_final_resultados_tormenta.groupby('lambda').agg(\n",
        "    atraso_promedio=('total_delay_min', 'mean'),\n",
        "    congestion_promedio=('congestion_events', 'mean'),\n",
        "    desvios_promedio=('diversions', 'mean'),\n",
        "    aterrizajes_promedio=('landed_planes', 'mean'),\n",
        "    atraso_std=('total_delay_min', 'std'),\n",
        "    congestion_std=('congestion_events', 'std'),\n",
        "    desvios_std=('diversions', 'std'),\n",
        "    n_simulaciones=('lambda', 'count')\n",
        ")\n",
        "\n",
        "# 2. Calcular el Error Estándar de la Media (nuestro error de estimación)\n",
        "df_estadisticas_tormenta['atraso_error'] = df_estadisticas_tormenta['atraso_std'] / np.sqrt(df_estadisticas_tormenta['n_simulaciones'])\n",
        "df_estadisticas_tormenta['congestion_error'] = df_estadisticas_tormenta['congestion_std'] / np.sqrt(df_estadisticas_tormenta['n_simulaciones'])\n",
        "df_estadisticas_tormenta['desvios_error'] = df_estadisticas_tormenta['desvios_std'] / np.sqrt(df_estadisticas_tormenta['n_simulaciones'])\n",
        "\n",
        "# 3. Calcular el atraso promedio POR AVIÓN\n",
        "df_estadisticas_tormenta['atraso_por_avion_promedio'] = df_estadisticas_tormenta['atraso_promedio'] / df_estadisticas_tormenta['aterrizajes_promedio']\n",
        "\n",
        "# Mostramos la tabla final de resultados\n",
        "print(\"--- Tabla de Estadísticas por Valor de λ ---\")\n",
        "display(df_estadisticas_tormenta)"
      ]
    },
    {
      "cell_type": "markdown",
      "id": "24d47fd1",
      "metadata": {
        "id": "24d47fd1"
      },
      "source": [
        "### Frecuencia de Congestiones con Tormenta"
      ]
    },
    {
      "cell_type": "code",
      "execution_count": null,
      "id": "898c2f93",
      "metadata": {
        "colab": {
          "base_uri": "https://localhost:8080/",
          "height": 574
        },
        "id": "898c2f93",
        "outputId": "a1b916b9-723c-4096-d8a5-79d748079aad"
      },
      "outputs": [],
      "source": [
        "plt.figure(figsize=(10, 6))\n",
        "plt.bar(\n",
        "    df_estadisticas_tormenta.index.astype(str),\n",
        "    df_estadisticas_tormenta['congestion_promedio'],\n",
        "    yerr=df_estadisticas_tormenta['congestion_error'],\n",
        "    capsize=5,\n",
        "    color='skyblue'\n",
        ")\n",
        "plt.title('Frecuencia de Congestiones con Tormenta vs. Tasa de Arribo (λ)', fontsize=14)\n",
        "plt.xlabel('Valor de λ (Probabilidad de arribo por minuto)', fontsize=12)\n",
        "plt.ylabel('Promedio de Eventos de Congestión por Día', fontsize=12)\n",
        "plt.grid(axis='y', linestyle='--', alpha=0.7)\n",
        "plt.show()"
      ]
    },
    {
      "cell_type": "markdown",
      "id": "966dd14a",
      "metadata": {
        "id": "966dd14a"
      },
      "source": [
        "### Atraso Promedio por Avión con Tormenta"
      ]
    },
    {
      "cell_type": "code",
      "execution_count": null,
      "id": "4bbeb207",
      "metadata": {
        "colab": {
          "base_uri": "https://localhost:8080/",
          "height": 575
        },
        "id": "4bbeb207",
        "outputId": "9f99b3d9-8f58-4757-a5e0-94174382d9f2"
      },
      "outputs": [],
      "source": [
        "plt.figure(figsize=(10, 6))\n",
        "plt.bar(\n",
        "    df_estadisticas_tormenta.index.astype(str),\n",
        "    df_estadisticas_tormenta['atraso_por_avion_promedio'],\n",
        "    # Nota: El error de estimación aquí corresponde al atraso total, pero sirve como indicador de variabilidad.\n",
        "    yerr=(df_estadisticas_tormenta['atraso_error'] / df_estadisticas_tormenta['aterrizajes_promedio']),\n",
        "    capsize=5,\n",
        "    color='salmon'\n",
        ")\n",
        "plt.title('Atraso Promedio por Avión con Tormenta vs. Tasa de Arribo (λ)', fontsize=14)\n",
        "plt.xlabel('Valor de λ (Probabilidad de arribo por minuto)', fontsize=12)\n",
        "plt.ylabel('Atraso Promedio por Avión (Minutos)', fontsize=12)\n",
        "plt.grid(axis='y', linestyle='--', alpha=0.7)\n",
        "plt.show()"
      ]
    },
    {
      "cell_type": "markdown",
      "id": "a5be58b5",
      "metadata": {
        "id": "a5be58b5"
      },
      "source": [
        "### Frecuencia de Desvíos con Tormenta"
      ]
    },
    {
      "cell_type": "code",
      "execution_count": null,
      "id": "fa4fdc47",
      "metadata": {
        "colab": {
          "base_uri": "https://localhost:8080/",
          "height": 574
        },
        "id": "fa4fdc47",
        "outputId": "061fc11e-0eb9-4cd6-d941-73a918007292"
      },
      "outputs": [],
      "source": [
        "plt.figure(figsize=(10, 6))\n",
        "plt.bar(\n",
        "    df_estadisticas_tormenta.index.astype(str),\n",
        "    df_estadisticas_tormenta['desvios_promedio'],\n",
        "    yerr=df_estadisticas_tormenta['desvios_error'],\n",
        "    capsize=5,\n",
        "    color='lightcoral'\n",
        ")\n",
        "plt.title('Frecuencia de Desvíos con Tormenta vs. Tasa de Arribo (λ)', fontsize=14)\n",
        "plt.xlabel('Valor de λ (Probabilidad de arribo por minuto)', fontsize=12)\n",
        "plt.ylabel('Promedio de Desvíos por Día', fontsize=12)\n",
        "plt.grid(axis='y', linestyle='--', alpha=0.7)\n",
        "plt.show()"
      ]
    },
    {
      "cell_type": "markdown",
      "id": "d9f587ff",
      "metadata": {},
      "source": [
        "### Proporcion Congestión y desvios"
      ]
    },
    {
      "cell_type": "code",
      "execution_count": null,
      "id": "6916724e",
      "metadata": {},
      "outputs": [],
      "source": [
        "proporcion_congestion = df_estadisticas_tormenta['congestion_promedio'] / df_estadisticas_tormenta['aterrizajes_promedio']\n",
        "proporcion_desvios = df_estadisticas_tormenta['desvios_promedio'] / (df_estadisticas_tormenta['aterrizajes_promedio'] + df_estadisticas_tormenta['desvios_promedio'])\n",
        "plt.figure(figsize=(10, 6))\n",
        "plt.bar(df_estadisticas_tormenta.index.astype(str), proporcion_congestion, color='skyblue', label='Congestión por avión')\n",
        "plt.bar(df_estadisticas_tormenta.index.astype(str), proporcion_desvios, color='salmon', alpha=0.7, label='Desvíos (%)')\n",
        "plt.xlabel('Valor de λ')\n",
        "plt.ylabel('Proporción')\n",
        "plt.title('Proporción de Congestión y Desvíos vs. Tasa de Arribo (λ)')\n",
        "plt.legend()\n",
        "plt.show()"
      ]
    },
    {
      "cell_type": "markdown",
      "id": "cb0fac00",
      "metadata": {
        "id": "cb0fac00"
      },
      "source": [
        "### Comparación con Caso Normal (Ej 4)"
      ]
    },
    {
      "cell_type": "code",
      "execution_count": null,
      "id": "015bf608",
      "metadata": {
        "colab": {
          "base_uri": "https://localhost:8080/",
          "height": 396
        },
        "id": "015bf608",
        "outputId": "20c05b28-8c77-4252-d430-dd7cb92c8dbf"
      },
      "outputs": [],
      "source": [
        "sns.set_theme(style=\"whitegrid\")\n",
        "fig, axes = plt.subplots(1, 3, figsize=(20, 6), sharex=True)\n",
        "fig.suptitle('Impacto de una Tormenta de 30 Minutos en la Operación de AEP', fontsize=18, weight='bold')\n",
        "\n",
        "# --- Panel 1: Congestión ---\n",
        "ax1 = axes[0]\n",
        "ax1.plot(df_estadisticas.index, df_estadisticas['congestion_promedio'], marker='o', linestyle='--', color='royalblue', label='Día Normal')\n",
        "ax1.plot(df_estadisticas_tormenta.index, df_estadisticas_tormenta['congestion_promedio'], marker='o', linestyle='-', color='firebrick', label='Con Tormenta')\n",
        "ax1.set_title('Eventos de Congestión', fontsize=14)\n",
        "ax1.set_ylabel('Promedio de Eventos por Día')\n",
        "ax1.legend()\n",
        "\n",
        "# --- Panel 2: Atraso por Avión ---\n",
        "ax2 = axes[1]\n",
        "ax2.plot(df_estadisticas.index, df_estadisticas['atraso_por_avion_promedio'], marker='o', linestyle='--', color='royalblue', label='Día Normal')\n",
        "ax2.plot(df_estadisticas_tormenta.index, df_estadisticas_tormenta['atraso_por_avion_promedio'], marker='o', linestyle='-', color='firebrick', label='Con Tormenta')\n",
        "ax2.set_title('Atraso Promedio por Avión', fontsize=14)\n",
        "ax2.set_ylabel('Minutos de Atraso por Avión')\n",
        "ax2.set_xlabel('Tasa de Arribo (λ)', fontsize=12)\n",
        "\n",
        "# --- Panel 3: Desvíos ---\n",
        "ax3 = axes[2]\n",
        "ax3.plot(df_estadisticas.index, df_estadisticas['desvios_promedio'], marker='o', linestyle='--', color='royalblue', label='Día Normal')\n",
        "ax3.plot(df_estadisticas_tormenta.index, df_estadisticas_tormenta['desvios_promedio'], marker='o', linestyle='-', color='firebrick', label='Con Tormenta')\n",
        "ax3.set_title('Desvíos a Montevideo', fontsize=14)\n",
        "ax3.set_ylabel('Promedio de Desvíos por Día')\n",
        "\n",
        "plt.tight_layout(rect=[0, 0.03, 1, 0.95])\n",
        "plt.show()"
      ]
    },
    {
      "cell_type": "code",
      "execution_count": null,
      "id": "5273c112",
      "metadata": {
        "colab": {
          "base_uri": "https://localhost:8080/",
          "height": 738
        },
        "id": "5273c112",
        "outputId": "21ff4037-143a-4f48-ab91-4ed897ec0174"
      },
      "outputs": [],
      "source": [
        "# Seleccionamos un valor de lambda para comparar (ej: 0.2)\n",
        "lambda_a_comparar = 0.2\n",
        "stats_normal = df_estadisticas.loc[lambda_a_comparar]\n",
        "stats_tormenta = df_estadisticas_tormenta.loc[lambda_a_comparar]\n",
        "\n",
        "# Métricas a graficar\n",
        "labels = ['Congestión', 'Atraso por Avión (min)', 'Desvíos']\n",
        "valores_normal = [stats_normal['congestion_promedio'], stats_normal['atraso_por_avion_promedio'], stats_normal['desvios_promedio']]\n",
        "valores_tormenta = [stats_tormenta['congestion_promedio'], stats_tormenta['atraso_por_avion_promedio'], stats_tormenta['desvios_promedio']]\n",
        "\n",
        "# Preparar el gráfico radar\n",
        "angles = np.linspace(0, 2 * np.pi, len(labels), endpoint=False).tolist()\n",
        "valores_normal += valores_normal[:1] # Cerrar el círculo\n",
        "valores_tormenta += valores_tormenta[:1]\n",
        "angles += angles[:1]\n",
        "\n",
        "fig, ax = plt.subplots(figsize=(8, 8), subplot_kw=dict(polar=True))\n",
        "ax.set_theta_offset(np.pi / 2)\n",
        "ax.set_theta_direction(-1)\n",
        "\n",
        "# Dibujar los ejes\n",
        "ax.set_thetagrids(np.degrees(angles[:-1]), labels)\n",
        "\n",
        "# Dibujar las líneas y rellenar las áreas\n",
        "ax.plot(angles, valores_normal, 'o--', color='royalblue', label='Día Normal')\n",
        "ax.fill(angles, valores_normal, 'royalblue', alpha=0.1)\n",
        "\n",
        "ax.plot(angles, valores_tormenta, 'o-', color='firebrick', label='Con Tormenta')\n",
        "ax.fill(angles, valores_tormenta, 'firebrick', alpha=0.25)\n",
        "\n",
        "ax.set_title(f'Perfil de Rendimiento del Sistema (λ={lambda_a_comparar})', size=16, y=1.1)\n",
        "ax.legend(loc='upper right', bbox_to_anchor=(1.3, 1.1))\n",
        "plt.show()"
      ]
    },
    {
      "cell_type": "markdown",
      "id": "6bf1f5dd",
      "metadata": {
        "id": "6bf1f5dd"
      },
      "source": [
        "A partir de estos gráficos vemos:\n",
        "\n",
        "1. Eventos de Congestión\n",
        "\n",
        "- La tormenta no incrementa la congestión global: a tasas altas, incluso se observa una reducción frente al escenario normal. Esto se puede deber a que parte de la demanda no ingresa al sistema porque es absorbida en forma de desvíos o cancelaciones implícitas.\n",
        "\n",
        "2. Atraso Promedio por Avión\n",
        "\n",
        "- El impacto de la tormenta se refleja en mayores demoras por aeronave, especialmente en niveles intermedios de tráfico (λ≈0.2). Esto muestra que el shock meteorológico afecta más a la operación táctica que a la capacidad estructural del sistema.\n",
        "\n",
        "3. Desvíos a Montevideo\n",
        "\n",
        "- La tormenta aumenta la cantidad de desvíos, aunque de manera marginal. El efecto se amplifica a tasas de arribo altas, donde la saturación del sistema fuerza a derivar vuelos."
      ]
    },
    {
      "cell_type": "markdown",
      "id": "42b5672f",
      "metadata": {
        "id": "42b5672f"
      },
      "source": [
        "### Conclusiones\n",
        "\n",
        "La tormenta de 30 minutos no genera un colapso en términos de congestión total, pero sí empeora significativamente la performance percibida:\n",
        "\n",
        "- Más minutos de demora por avión.\n",
        "\n",
        "- Más desvíos a aeropuertos alternativos.\n",
        "\n",
        "En términos operativos, la tormenta actúa como un redistribuidor del impacto: el sistema mantiene niveles similares de congestión, pero traslada la carga hacia afectaciones individuales más visibles (pasajeros, aerolíneas, desvíos)."
      ]
    }
  ],
  "metadata": {
    "colab": {
      "collapsed_sections": [
        "c9386e13",
        "394c971b",
        "ca9041fb",
        "f292ca11"
      ],
      "provenance": []
    },
    "kernelspec": {
      "display_name": "base",
      "language": "python",
      "name": "python3"
    },
    "language_info": {
      "codemirror_mode": {
        "name": "ipython",
        "version": 3
      },
      "file_extension": ".py",
      "mimetype": "text/x-python",
      "name": "python",
      "nbconvert_exporter": "python",
      "pygments_lexer": "ipython3",
      "version": "3.12.7"
    }
  },
  "nbformat": 4,
  "nbformat_minor": 5
}
